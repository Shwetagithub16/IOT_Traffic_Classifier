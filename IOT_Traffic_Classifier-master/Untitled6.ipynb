{
 "cells": [
  {
   "cell_type": "code",
   "execution_count": 1,
   "metadata": {},
   "outputs": [],
   "source": [
    "import numpy as np\n",
    "import os\n",
    "import re\n",
    "from sklearn.preprocessing import LabelEncoder\n",
    "from sklearn.model_selection import train_test_split\n",
    "import matplotlib.pyplot as plt\n",
    "from utils import *"
   ]
  },
  {
   "cell_type": "code",
   "execution_count": 2,
   "metadata": {},
   "outputs": [],
   "source": [
    "path = '../Data/iot_23_datasets_small/opt/Malware-Project/BigDataset/IoTScenarios'"
   ]
  },
  {
   "cell_type": "code",
   "execution_count": 3,
   "metadata": {},
   "outputs": [],
   "source": [
    "all_files_path = []\n",
    "for folder in os.listdir(path):\n",
    "    subpath = path + '/' + folder\n",
    "    # print(return_final_folder(subpath))\n",
    "    all_files_path.append(return_final_folder(subpath))"
   ]
  },
  {
   "cell_type": "code",
   "execution_count": 4,
   "metadata": {},
   "outputs": [
    {
     "data": {
      "text/plain": [
       "['../Data/iot_23_datasets_small/opt/Malware-Project/BigDataset/IoTScenarios/CTU-Honeypot-Capture-4-1/bro/conn.log.labeled',\n",
       " '../Data/iot_23_datasets_small/opt/Malware-Project/BigDataset/IoTScenarios/CTU-Honeypot-Capture-5-1/bro/conn.log.labeled',\n",
       " '../Data/iot_23_datasets_small/opt/Malware-Project/BigDataset/IoTScenarios/CTU-Honeypot-Capture-7-1/Somfy-01/bro/conn.log.labeled',\n",
       " '../Data/iot_23_datasets_small/opt/Malware-Project/BigDataset/IoTScenarios/CTU-IoT-Malware-Capture-1-1/bro/conn.log.labeled',\n",
       " '../Data/iot_23_datasets_small/opt/Malware-Project/BigDataset/IoTScenarios/CTU-IoT-Malware-Capture-17-1/bro/conn.log.labeled',\n",
       " '../Data/iot_23_datasets_small/opt/Malware-Project/BigDataset/IoTScenarios/CTU-IoT-Malware-Capture-20-1/bro/conn.log.labeled',\n",
       " '../Data/iot_23_datasets_small/opt/Malware-Project/BigDataset/IoTScenarios/CTU-IoT-Malware-Capture-21-1/bro/conn.log.labeled',\n",
       " '../Data/iot_23_datasets_small/opt/Malware-Project/BigDataset/IoTScenarios/CTU-IoT-Malware-Capture-3-1/bro/conn.log.labeled',\n",
       " '../Data/iot_23_datasets_small/opt/Malware-Project/BigDataset/IoTScenarios/CTU-IoT-Malware-Capture-33-1/bro/conn.log.labeled',\n",
       " '../Data/iot_23_datasets_small/opt/Malware-Project/BigDataset/IoTScenarios/CTU-IoT-Malware-Capture-34-1/bro/conn.log.labeled',\n",
       " '../Data/iot_23_datasets_small/opt/Malware-Project/BigDataset/IoTScenarios/CTU-IoT-Malware-Capture-35-1/bro/conn.log.labeled',\n",
       " '../Data/iot_23_datasets_small/opt/Malware-Project/BigDataset/IoTScenarios/CTU-IoT-Malware-Capture-36-1/bro/conn.log.labeled',\n",
       " '../Data/iot_23_datasets_small/opt/Malware-Project/BigDataset/IoTScenarios/CTU-IoT-Malware-Capture-39-1/bro/conn.log.labeled',\n",
       " '../Data/iot_23_datasets_small/opt/Malware-Project/BigDataset/IoTScenarios/CTU-IoT-Malware-Capture-42-1/bro/conn.log.labeled',\n",
       " '../Data/iot_23_datasets_small/opt/Malware-Project/BigDataset/IoTScenarios/CTU-IoT-Malware-Capture-43-1/bro/conn.log.labeled',\n",
       " '../Data/iot_23_datasets_small/opt/Malware-Project/BigDataset/IoTScenarios/CTU-IoT-Malware-Capture-44-1/bro/conn.log.labeled',\n",
       " '../Data/iot_23_datasets_small/opt/Malware-Project/BigDataset/IoTScenarios/CTU-IoT-Malware-Capture-48-1/bro/conn.log.labeled',\n",
       " '../Data/iot_23_datasets_small/opt/Malware-Project/BigDataset/IoTScenarios/CTU-IoT-Malware-Capture-49-1/bro/conn.log.labeled',\n",
       " '../Data/iot_23_datasets_small/opt/Malware-Project/BigDataset/IoTScenarios/CTU-IoT-Malware-Capture-52-1/bro/conn.log.labeled',\n",
       " '../Data/iot_23_datasets_small/opt/Malware-Project/BigDataset/IoTScenarios/CTU-IoT-Malware-Capture-60-1/bro/conn.log.labeled',\n",
       " '../Data/iot_23_datasets_small/opt/Malware-Project/BigDataset/IoTScenarios/CTU-IoT-Malware-Capture-7-1/bro/conn.log.labeled',\n",
       " '../Data/iot_23_datasets_small/opt/Malware-Project/BigDataset/IoTScenarios/CTU-IoT-Malware-Capture-8-1/bro/conn.log.labeled',\n",
       " '../Data/iot_23_datasets_small/opt/Malware-Project/BigDataset/IoTScenarios/CTU-IoT-Malware-Capture-9-1/bro/conn.log.labeled']"
      ]
     },
     "execution_count": 4,
     "metadata": {},
     "output_type": "execute_result"
    }
   ],
   "source": [
    "all_files_path"
   ]
  },
  {
   "cell_type": "code",
   "execution_count": 5,
   "metadata": {},
   "outputs": [],
   "source": [
    "files = ['Malware-Capture-7-1','-1-1','-3-1','-8-1']"
   ]
  },
  {
   "cell_type": "code",
   "execution_count": 6,
   "metadata": {},
   "outputs": [],
   "source": [
    "req_files = []"
   ]
  },
  {
   "cell_type": "code",
   "execution_count": 7,
   "metadata": {},
   "outputs": [],
   "source": [
    "for file in files:\n",
    "    req_files.extend([path for path in all_files_path if re.search(file, path)])"
   ]
  },
  {
   "cell_type": "code",
   "execution_count": 8,
   "metadata": {},
   "outputs": [
    {
     "data": {
      "text/plain": [
       "['../Data/iot_23_datasets_small/opt/Malware-Project/BigDataset/IoTScenarios/CTU-IoT-Malware-Capture-7-1/bro/conn.log.labeled',\n",
       " '../Data/iot_23_datasets_small/opt/Malware-Project/BigDataset/IoTScenarios/CTU-IoT-Malware-Capture-1-1/bro/conn.log.labeled',\n",
       " '../Data/iot_23_datasets_small/opt/Malware-Project/BigDataset/IoTScenarios/CTU-IoT-Malware-Capture-3-1/bro/conn.log.labeled',\n",
       " '../Data/iot_23_datasets_small/opt/Malware-Project/BigDataset/IoTScenarios/CTU-IoT-Malware-Capture-8-1/bro/conn.log.labeled']"
      ]
     },
     "execution_count": 8,
     "metadata": {},
     "output_type": "execute_result"
    }
   ],
   "source": [
    "req_files"
   ]
  },
  {
   "cell_type": "code",
   "execution_count": 9,
   "metadata": {},
   "outputs": [
    {
     "name": "stdout",
     "output_type": "stream",
     "text": [
      "Files Loaded:../Data/iot_23_datasets_small/opt/Malware-Project/BigDataset/IoTScenarios/CTU-IoT-Malware-Capture-7-1/bro/conn.log.labeled\n",
      "Files Loaded:../Data/iot_23_datasets_small/opt/Malware-Project/BigDataset/IoTScenarios/CTU-IoT-Malware-Capture-1-1/bro/conn.log.labeled\n",
      "Files Loaded:../Data/iot_23_datasets_small/opt/Malware-Project/BigDataset/IoTScenarios/CTU-IoT-Malware-Capture-3-1/bro/conn.log.labeled\n",
      "Files Loaded:../Data/iot_23_datasets_small/opt/Malware-Project/BigDataset/IoTScenarios/CTU-IoT-Malware-Capture-8-1/bro/conn.log.labeled\n"
     ]
    }
   ],
   "source": [
    "data = preprocess_data(req_files)"
   ]
  },
  {
   "cell_type": "code",
   "execution_count": 10,
   "metadata": {},
   "outputs": [],
   "source": [
    "#data.pop('ts')"
   ]
  },
  {
   "cell_type": "code",
   "execution_count": 11,
   "metadata": {},
   "outputs": [
    {
     "data": {
      "text/plain": [
       "id.orig_h           int32\n",
       "id.orig_p           int32\n",
       "id.resp_h           int32\n",
       "id.resp_p           int32\n",
       "proto               int32\n",
       "duration          float32\n",
       "orig_bytes          int32\n",
       "resp_bytes          int32\n",
       "missed_bytes        int32\n",
       "orig_pkts           int32\n",
       "orig_ip_bytes       int32\n",
       "resp_pkts           int32\n",
       "resp_ip_bytes       int32\n",
       "detailed-label     object\n",
       "dtype: object"
      ]
     },
     "execution_count": 11,
     "metadata": {},
     "output_type": "execute_result"
    }
   ],
   "source": [
    "data.dtypes"
   ]
  },
  {
   "cell_type": "code",
   "execution_count": 12,
   "metadata": {},
   "outputs": [
    {
     "data": {
      "text/plain": [
       "Okiru                        11333397\n",
       "PartOfAHorizontalPortScan      685062\n",
       "Benign                         551947\n",
       "DDoS                            39584\n",
       "C&C                              8238\n",
       "Attack                           5962\n",
       "C&C-HeartBeat                    5778\n",
       "Name: detailed-label, dtype: int64"
      ]
     },
     "execution_count": 12,
     "metadata": {},
     "output_type": "execute_result"
    }
   ],
   "source": [
    "data['detailed-label'].value_counts()"
   ]
  },
  {
   "cell_type": "code",
   "execution_count": 13,
   "metadata": {},
   "outputs": [
    {
     "data": {
      "text/plain": [
       "array(['Benign', 'C&C-HeartBeat', 'Okiru', 'DDoS',\n",
       "       'PartOfAHorizontalPortScan', 'C&C', 'Attack'], dtype=object)"
      ]
     },
     "execution_count": 13,
     "metadata": {},
     "output_type": "execute_result"
    }
   ],
   "source": [
    "data['detailed-label'].unique()"
   ]
  },
  {
   "cell_type": "code",
   "execution_count": 14,
   "metadata": {},
   "outputs": [],
   "source": [
    "det_label = data['detailed-label']"
   ]
  },
  {
   "cell_type": "code",
   "execution_count": 15,
   "metadata": {},
   "outputs": [],
   "source": [
    "y_labels = LabelEncoder().fit_transform(data.pop('detailed-label'))"
   ]
  },
  {
   "cell_type": "code",
   "execution_count": 16,
   "metadata": {},
   "outputs": [
    {
     "data": {
      "text/plain": [
       "array([1, 1, 1, ..., 2, 1, 1])"
      ]
     },
     "execution_count": 16,
     "metadata": {},
     "output_type": "execute_result"
    }
   ],
   "source": [
    "y_labels"
   ]
  },
  {
   "cell_type": "code",
   "execution_count": 17,
   "metadata": {},
   "outputs": [],
   "source": [
    "xlabels = np.array(data)"
   ]
  },
  {
   "cell_type": "code",
   "execution_count": 18,
   "metadata": {},
   "outputs": [
    {
     "data": {
      "text/plain": [
       "(12629968, 13)"
      ]
     },
     "execution_count": 18,
     "metadata": {},
     "output_type": "execute_result"
    }
   ],
   "source": [
    "xlabels.shape"
   ]
  },
  {
   "cell_type": "code",
   "execution_count": 19,
   "metadata": {},
   "outputs": [],
   "source": [
    "for i in range(xlabels.shape[1]):\n",
    "    xlabels[:,i] = (xlabels[:,i] - xlabels[:,i].mean())/xlabels[:,i].std()"
   ]
  },
  {
   "cell_type": "code",
   "execution_count": 20,
   "metadata": {},
   "outputs": [
    {
     "data": {
      "text/plain": [
       "array([[-2.28105482e-02, -3.35185259e-01,  4.63004344e-01, ...,\n",
       "         1.63845678e+01, -1.14920606e-02, -1.95085948e-02],\n",
       "       [-2.28105482e-02,  3.71906504e+00, -7.69474389e-02, ...,\n",
       "         9.48127289e-01,  1.07284409e+00,  1.80088811e+00],\n",
       "       [-2.28105482e-02,  3.68688386e+00, -7.69474389e-02, ...,\n",
       "         9.48127289e-01,  1.07284409e+00,  2.83060745e+00],\n",
       "       ...,\n",
       "       [-1.93435452e-02,  2.38648268e+00, -1.24604750e+00, ...,\n",
       "         1.12504322e-01, -1.14920606e-02, -1.95085948e-02],\n",
       "       [-1.93435452e-02, -7.67852614e-01, -8.85138084e-01, ...,\n",
       "         2.93179558e-01,  5.30676014e-01,  6.79229533e-01],\n",
       "       [-1.93435452e-02, -7.67852614e-01, -8.83650850e-01, ...,\n",
       "         2.93179558e-01,  5.30676014e-01,  6.79229533e-01]])"
      ]
     },
     "execution_count": 20,
     "metadata": {},
     "output_type": "execute_result"
    }
   ],
   "source": [
    "xlabels"
   ]
  },
  {
   "cell_type": "code",
   "execution_count": 21,
   "metadata": {},
   "outputs": [],
   "source": [
    "model = tf.keras.Sequential([tf.keras.layers.Dense(13),\n",
    "                             tf.keras.layers.Dense(13,activation='relu'),\n",
    "                             tf.keras.layers.Dense(64,activation='tanh'),\n",
    "                             tf.keras.layers.Dense(64,activation='relu'),\n",
    "                             tf.keras.layers.Dense(1)])"
   ]
  },
  {
   "cell_type": "code",
   "execution_count": 22,
   "metadata": {},
   "outputs": [],
   "source": [
    "from tensorflow.keras.metrics import PrecisionAtRecall,Accuracy,MeanAbsoluteError,FalseNegatives,SparseCategoricalCrossentropy"
   ]
  },
  {
   "cell_type": "code",
   "execution_count": 23,
   "metadata": {},
   "outputs": [],
   "source": [
    "model.compile(optimizer=tf.keras.optimizers.Adam(learning_rate=0.005),\n",
    "              loss=tf.keras.losses.MeanSquaredError(),\n",
    "              metrics=[tf.keras.metrics.RootMeanSquaredError(),MeanAbsoluteError(),\n",
    "                       tf.keras.metrics.Accuracy()])"
   ]
  },
  {
   "cell_type": "code",
   "execution_count": 24,
   "metadata": {},
   "outputs": [
    {
     "name": "stdout",
     "output_type": "stream",
     "text": [
      "Train on 12629968 samples\n",
      "Epoch 1/15\n",
      "12629968/12629968 [==============================] - 9s 1us/sample - loss: 0.2671 - root_mean_squared_error: 0.5168 - mean_absolute_error: 0.1167 - accuracy: 1.2272e-05\n",
      "Epoch 2/15\n",
      "12629968/12629968 [==============================] - 6s 0us/sample - loss: 0.0408 - root_mean_squared_error: 0.2020 - mean_absolute_error: 0.0359 - accuracy: 1.1797e-05\n",
      "Epoch 3/15\n",
      "12629968/12629968 [==============================] - 5s 0us/sample - loss: 0.0347 - root_mean_squared_error: 0.1862 - mean_absolute_error: 0.0402 - accuracy: 7.0467e-06\n",
      "Epoch 4/15\n",
      "12629968/12629968 [==============================] - 5s 0us/sample - loss: 0.0323 - root_mean_squared_error: 0.1798 - mean_absolute_error: 0.0382 - accuracy: 7.3634e-06\n",
      "Epoch 5/15\n",
      "12629968/12629968 [==============================] - 5s 0us/sample - loss: 0.0308 - root_mean_squared_error: 0.1754 - mean_absolute_error: 0.0392 - accuracy: 6.0174e-06\n",
      "Epoch 6/15\n",
      "12629968/12629968 [==============================] - 6s 0us/sample - loss: 0.0297 - root_mean_squared_error: 0.1724 - mean_absolute_error: 0.0393 - accuracy: 4.1172e-06\n",
      "Epoch 7/15\n",
      "12629968/12629968 [==============================] - 6s 0us/sample - loss: 0.0289 - root_mean_squared_error: 0.1699 - mean_absolute_error: 0.0381 - accuracy: 7.4426e-06\n",
      "Epoch 8/15\n",
      "12629968/12629968 [==============================] - 6s 0us/sample - loss: 0.0276 - root_mean_squared_error: 0.1661 - mean_absolute_error: 0.0352 - accuracy: 5.8591e-06\n",
      "Epoch 9/15\n",
      "12629968/12629968 [==============================] - 6s 0us/sample - loss: 0.0273 - root_mean_squared_error: 0.1653 - mean_absolute_error: 0.0329 - accuracy: 8.1552e-06\n",
      "Epoch 10/15\n",
      "12629968/12629968 [==============================] - 6s 0us/sample - loss: 0.0267 - root_mean_squared_error: 0.1633 - mean_absolute_error: 0.0338 - accuracy: 7.0467e-06\n",
      "Epoch 11/15\n",
      "12629968/12629968 [==============================] - 6s 0us/sample - loss: 0.0266 - root_mean_squared_error: 0.1631 - mean_absolute_error: 0.0310 - accuracy: 1.0214e-05\n",
      "Epoch 12/15\n",
      "12629968/12629968 [==============================] - 6s 0us/sample - loss: 0.0305 - root_mean_squared_error: 0.1747 - mean_absolute_error: 0.0348 - accuracy: 1.2985e-05\n",
      "Epoch 13/15\n",
      "12629968/12629968 [==============================] - 6s 0us/sample - loss: 0.0274 - root_mean_squared_error: 0.1655 - mean_absolute_error: 0.0208 - accuracy: 2.3040e-05\n",
      "Epoch 14/15\n",
      "12629968/12629968 [==============================] - 6s 0us/sample - loss: 0.0278 - root_mean_squared_error: 0.1668 - mean_absolute_error: 0.0252 - accuracy: 1.3935e-05\n",
      "Epoch 15/15\n",
      "12629968/12629968 [==============================] - 6s 0us/sample - loss: 0.0265 - root_mean_squared_error: 0.1628 - mean_absolute_error: 0.0296 - accuracy: 9.2637e-06\n"
     ]
    },
    {
     "data": {
      "text/plain": [
       "<tensorflow.python.keras.callbacks.History at 0x20fc03d3f48>"
      ]
     },
     "execution_count": 24,
     "metadata": {},
     "output_type": "execute_result"
    }
   ],
   "source": [
    "model.fit(xlabels,y_labels,batch_size=16384,epochs=15)"
   ]
  },
  {
   "cell_type": "code",
   "execution_count": 25,
   "metadata": {},
   "outputs": [],
   "source": [
    "history = model.history.history"
   ]
  },
  {
   "cell_type": "code",
   "execution_count": 26,
   "metadata": {},
   "outputs": [
    {
     "data": {
      "text/plain": [
       "{'loss': [0.26708346669158733,\n",
       "  0.04078603799745861,\n",
       "  0.034653018467889866,\n",
       "  0.03234555284707467,\n",
       "  0.030762440519984606,\n",
       "  0.029710335293946927,\n",
       "  0.02885928560314383,\n",
       "  0.02760156305570279,\n",
       "  0.027336652126978424,\n",
       "  0.02667490677102787,\n",
       "  0.026587668356189715,\n",
       "  0.03051317277896573,\n",
       "  0.027393554336207777,\n",
       "  0.027807133282469768,\n",
       "  0.026510293611497177],\n",
       " 'root_mean_squared_error': [0.51680124,\n",
       "  0.20195557,\n",
       "  0.1861532,\n",
       "  0.17984866,\n",
       "  0.17539224,\n",
       "  0.17236684,\n",
       "  0.16988023,\n",
       "  0.16613717,\n",
       "  0.16533795,\n",
       "  0.1633245,\n",
       "  0.16305727,\n",
       "  0.17468017,\n",
       "  0.16551,\n",
       "  0.16675468,\n",
       "  0.16281983],\n",
       " 'mean_absolute_error': [0.1166953,\n",
       "  0.035851795,\n",
       "  0.040246792,\n",
       "  0.038228396,\n",
       "  0.03921704,\n",
       "  0.039280955,\n",
       "  0.038057797,\n",
       "  0.035234507,\n",
       "  0.032871947,\n",
       "  0.03375883,\n",
       "  0.031031543,\n",
       "  0.034772858,\n",
       "  0.0207531,\n",
       "  0.02518332,\n",
       "  0.029619878],\n",
       " 'accuracy': [1.2272399e-05,\n",
       "  1.1797338e-05,\n",
       "  7.046732e-06,\n",
       "  7.363439e-06,\n",
       "  6.0174343e-06,\n",
       "  4.1171916e-06,\n",
       "  7.4426157e-06,\n",
       "  5.8590804e-06,\n",
       "  8.155207e-06,\n",
       "  7.046732e-06,\n",
       "  1.0213803e-05,\n",
       "  1.298499e-05,\n",
       "  2.3040438e-05,\n",
       "  1.39351105e-05,\n",
       "  9.263681e-06]}"
      ]
     },
     "execution_count": 26,
     "metadata": {},
     "output_type": "execute_result"
    }
   ],
   "source": [
    "history"
   ]
  },
  {
   "cell_type": "code",
   "execution_count": 27,
   "metadata": {},
   "outputs": [
    {
     "data": {
      "image/png": "[encoded data removed]",
      "text/plain": [
       "<Figure size 432x288 with 1 Axes>"
      ]
     },
     "metadata": {
      "needs_background": "light"
     },
     "output_type": "display_data"
    }
   ],
   "source": [
    "plt.plot(history['loss'])\n",
    "plt.title('Loss vs Epoch')\n",
    "plt.savefig('LossvsEpoch')"
   ]
  },
  {
   "cell_type": "code",
   "execution_count": null,
   "metadata": {},
   "outputs": [],
   "source": []
  },
  {
   "cell_type": "code",
   "execution_count": 28,
   "metadata": {},
   "outputs": [],
   "source": [
    "#tf.keras.backend.clear_session()"
   ]
  },
  {
   "cell_type": "code",
   "execution_count": 29,
   "metadata": {},
   "outputs": [
    {
     "name": "stdout",
     "output_type": "stream",
     "text": [
      "WARNING:tensorflow:From d:\\python37\\lib\\site-packages\\tensorflow_core\\python\\ops\\resource_variable_ops.py:1786: calling BaseResourceVariable.__init__ (from tensorflow.python.ops.resource_variable_ops) with constraint is deprecated and will be removed in a future version.\n",
      "Instructions for updating:\n",
      "If using Keras pass *_constraint arguments to layers.\n",
      "INFO:tensorflow:Assets written to: IOT_Network_Analyzer\\assets\n"
     ]
    }
   ],
   "source": [
    "model.save('IOT_Network_Analyzer')"
   ]
  },
  {
   "cell_type": "code",
   "execution_count": 30,
   "metadata": {},
   "outputs": [],
   "source": [
    "xtrain,xtest,ytrain,ytest = train_test_split(xlabels,y_labels, test_size=0.2)"
   ]
  },
  {
   "cell_type": "code",
   "execution_count": 31,
   "metadata": {},
   "outputs": [],
   "source": [
    "y_pred = model.predict(xtest, batch_size=16384)"
   ]
  },
  {
   "cell_type": "code",
   "execution_count": 32,
   "metadata": {},
   "outputs": [],
   "source": [
    "y_pred = np.around(y_pred)"
   ]
  },
  {
   "cell_type": "code",
   "execution_count": 33,
   "metadata": {},
   "outputs": [
    {
     "name": "stdout",
     "output_type": "stream",
     "text": [
      "0 1210\n",
      "1 107262\n",
      "2 998\n",
      "3 1833\n",
      "4 8248\n",
      "5 2271737\n",
      "6 134700\n",
      "7 1\n"
     ]
    }
   ],
   "source": [
    "for i in range(0,8):\n",
    "    print(i,(y_pred == i).sum())"
   ]
  },
  {
   "cell_type": "code",
   "execution_count": 34,
   "metadata": {},
   "outputs": [
    {
     "name": "stdout",
     "output_type": "stream",
     "text": [
      "0 1192\n",
      "1 110244\n",
      "2 1676\n",
      "3 1132\n",
      "4 8007\n",
      "5 2267321\n",
      "6 136422\n",
      "7 0\n"
     ]
    }
   ],
   "source": [
    "for i in range(0,8):\n",
    "    print(i,(ytest == i).sum())"
   ]
  },
  {
   "cell_type": "code",
   "execution_count": 35,
   "metadata": {},
   "outputs": [
    {
     "name": "stdout",
     "output_type": "stream",
     "text": [
      "0 5962\n",
      "1 551947\n",
      "2 8238\n",
      "3 5778\n",
      "4 39584\n",
      "5 11333397\n",
      "6 685062\n",
      "7 0\n"
     ]
    }
   ],
   "source": [
    "for i in range(0,8):\n",
    "    print(i,(y_labels == i).sum())"
   ]
  },
  {
   "cell_type": "code",
   "execution_count": 36,
   "metadata": {},
   "outputs": [],
   "source": [
    "#Okiru                        11333397\n",
    "#PartOfAHorizontalPortScan      685062\n",
    "#Benign                         551947\n",
    "#DDoS                            39584\n",
    "#C&C                              8238\n",
    "#Attack                           5962\n",
    "#C&C-HeartBeat                    5778"
   ]
  },
  {
   "cell_type": "markdown",
   "metadata": {},
   "source": [
    "|Virus | Label|\n",
    "------|------\n",
    "|Okiru  |  5|\n",
    "PartOfAHorizontalPortScan  |  6\n",
    "Benign  |  1\n",
    "DDoS  |  4\n",
    "C&C  |  2\n",
    "Attack  |  0\n",
    "C&C-Heartbreak  |  3"
   ]
  },
  {
   "cell_type": "code",
   "execution_count": 37,
   "metadata": {},
   "outputs": [],
   "source": [
    "result = []"
   ]
  },
  {
   "cell_type": "code",
   "execution_count": 38,
   "metadata": {},
   "outputs": [],
   "source": [
    "result = [y_pred[i] == ytest[i] for i in range(ytest.shape[0])]"
   ]
  },
  {
   "cell_type": "code",
   "execution_count": 39,
   "metadata": {},
   "outputs": [],
   "source": [
    "result = np.array(result)"
   ]
  },
  {
   "cell_type": "code",
   "execution_count": 40,
   "metadata": {},
   "outputs": [],
   "source": [
    "true = (result == True).sum()"
   ]
  },
  {
   "cell_type": "code",
   "execution_count": 41,
   "metadata": {},
   "outputs": [],
   "source": [
    "false = (result == False).sum()"
   ]
  },
  {
   "cell_type": "code",
   "execution_count": 42,
   "metadata": {},
   "outputs": [],
   "source": [
    "total = result.shape[0]"
   ]
  },
  {
   "cell_type": "code",
   "execution_count": 43,
   "metadata": {},
   "outputs": [
    {
     "data": {
      "text/plain": [
       "2525994"
      ]
     },
     "execution_count": 43,
     "metadata": {},
     "output_type": "execute_result"
    }
   ],
   "source": [
    "total"
   ]
  },
  {
   "cell_type": "code",
   "execution_count": 44,
   "metadata": {},
   "outputs": [
    {
     "data": {
      "text/plain": [
       "0.9965617495528493"
      ]
     },
     "execution_count": 44,
     "metadata": {},
     "output_type": "execute_result"
    }
   ],
   "source": [
    "true/total "
   ]
  },
  {
   "cell_type": "code",
   "execution_count": 45,
   "metadata": {},
   "outputs": [
    {
     "data": {
      "text/plain": [
       "0.0034382504471507057"
      ]
     },
     "execution_count": 45,
     "metadata": {},
     "output_type": "execute_result"
    }
   ],
   "source": [
    "false/total"
   ]
  },
  {
   "cell_type": "code",
   "execution_count": 46,
   "metadata": {},
   "outputs": [],
   "source": [
    "from sklearn.metrics import f1_score, roc_auc_score,recall_score,precision_score"
   ]
  },
  {
   "cell_type": "code",
   "execution_count": 47,
   "metadata": {},
   "outputs": [
    {
     "data": {
      "text/plain": [
       "array([0.        , 0.96280992, 0.99954317, 0.        , 0.60883797,\n",
       "       0.9707808 , 0.99802706, 0.98406088, 0.        ])"
      ]
     },
     "execution_count": 47,
     "metadata": {},
     "output_type": "execute_result"
    }
   ],
   "source": [
    "pscore = precision_score(ytest,y_pred,average=None)\n",
    "pscore"
   ]
  },
  {
   "cell_type": "code",
   "execution_count": 50,
   "metadata": {},
   "outputs": [
    {
     "data": {
      "image/png": "[encoded data removed]",
      "text/plain": [
       "<Figure size 1440x360 with 1 Axes>"
      ]
     },
     "metadata": {
      "needs_background": "light"
     },
     "output_type": "display_data"
    }
   ],
   "source": [
    "plt.figure(figsize=(20,5))\n",
    "plt.bar(labels,pscore[1:8])\n",
    "plt.title('Precision')\n",
    "plt.savefig('Precision')"
   ]
  },
  {
   "cell_type": "code",
   "execution_count": 51,
   "metadata": {},
   "outputs": [
    {
     "name": "stderr",
     "output_type": "stream",
     "text": [
      "d:\\python37\\lib\\site-packages\\sklearn\\metrics\\_classification.py:1272: UndefinedMetricWarning: Recall is ill-defined and being set to 0.0 in labels with no true samples. Use `zero_division` parameter to control this behavior.\n",
      "  _warn_prf(average, modifier, msg_start, len(result))\n"
     ]
    },
    {
     "data": {
      "text/plain": [
       "array([0.        , 0.97734899, 0.97250644, 0.        , 0.98586572,\n",
       "       1.        , 0.99997089, 0.97163947, 0.        ])"
      ]
     },
     "execution_count": 51,
     "metadata": {},
     "output_type": "execute_result"
    }
   ],
   "source": [
    "rscore = recall_score(ytest,y_pred,average=None)\n",
    "rscore"
   ]
  },
  {
   "cell_type": "code",
   "execution_count": 52,
   "metadata": {},
   "outputs": [
    {
     "data": {
      "image/png": "[encoded data removed]",
      "text/plain": [
       "<Figure size 1440x360 with 1 Axes>"
      ]
     },
     "metadata": {
      "needs_background": "light"
     },
     "output_type": "display_data"
    }
   ],
   "source": [
    "plt.figure(figsize=(20,5))\n",
    "plt.bar(labels, rscore[1:8])\n",
    "plt.title('Recall')\n",
    "plt.savefig('Recall')"
   ]
  },
  {
   "cell_type": "code",
   "execution_count": 53,
   "metadata": {},
   "outputs": [
    {
     "data": {
      "text/plain": [
       "0.9964488039629513"
      ]
     },
     "execution_count": 53,
     "metadata": {},
     "output_type": "execute_result"
    }
   ],
   "source": [
    "f1_score(ytest,y_pred, average='weighted')"
   ]
  },
  {
   "cell_type": "code",
   "execution_count": 49,
   "metadata": {},
   "outputs": [],
   "source": [
    "labels = [ 'Attack','Benign','C&C','C&C-HeartBeat', 'DDoS',\n",
    "           'PartOfAHorizontalPortScan', 'Okiru']"
   ]
  },
  {
   "cell_type": "code",
   "execution_count": null,
   "metadata": {},
   "outputs": [],
   "source": []
  }
 ],
 "metadata": {
  "kernelspec": {
   "display_name": "Python 3",
   "language": "python",
   "name": "python3"
  },
  "language_info": {
   "codemirror_mode": {
    "name": "ipython",
    "version": 3
   },
   "file_extension": ".py",
   "mimetype": "text/x-python",
   "name": "python",
   "nbconvert_exporter": "python",
   "pygments_lexer": "ipython3",
   "version": "3.7.5"
  }
 },
 "nbformat": 4,
 "nbformat_minor": 4
}
