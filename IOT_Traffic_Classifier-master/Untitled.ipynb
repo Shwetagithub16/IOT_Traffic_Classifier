{
 "cells": [
  {
   "cell_type": "code",
   "execution_count": 5,
   "metadata": {},
   "outputs": [],
   "source": [
    "from scapy.all import rdpcap, wrpcap, PcapReader\n",
    "import pandas as pd\n",
    "import dpkt\n",
    "#import pcap"
   ]
  },
  {
   "cell_type": "code",
   "execution_count": 6,
   "metadata": {},
   "outputs": [],
   "source": [
    "data_path = '../Data/'\n",
    "file_path = data_path + '18-10-27.pcap'\n",
    "devices_list = data_path + 'List_Of_Devices.txt'"
   ]
  },
  {
   "cell_type": "code",
   "execution_count": 23,
   "metadata": {},
   "outputs": [],
   "source": [
    "pr = PcapReader(file_path)"
   ]
  },
  {
   "cell_type": "code",
   "execution_count": 29,
   "metadata": {},
   "outputs": [
    {
     "data": {
      "text/plain": [
       "<Ether  dst=ec:1a:59:83:28:11 src=14:cc:20:51:33:ea type=IPv4 |<IP  version=4 ihl=5 tos=0x0 len=70 id=10848 flags=DF frag=0 ttl=64 proto=udp chksum=0x8c50 src=192.168.1.1 dst=192.168.1.165 |<UDP  sport=domain dport=3793 len=50 chksum=0x843a |<DNS  id=1869 qr=1 opcode=QUERY aa=0 tc=0 rd=1 ra=1 z=0 ad=0 cd=0 rcode=ok qdcount=1 ancount=1 nscount=0 arcount=0 qd=<DNSQR  qname='xbcs.net.' qtype=A qclass=IN |> an=<DNSRR  rrname='xbcs.net.' type=A rclass=IN ttl=1641 rdlen=None rdata=184.73.174.14 |> ns=None ar=None |>>>>"
      ]
     },
     "execution_count": 29,
     "metadata": {},
     "output_type": "execute_result"
    }
   ],
   "source": [
    "pr.read_packet()"
   ]
  },
  {
   "cell_type": "code",
   "execution_count": 21,
   "metadata": {},
   "outputs": [
    {
     "name": "stdout",
     "output_type": "stream",
     "text": [
      "###[ Ethernet ]### \n",
      "  dst       = e0:76:d0:3f:00:ae\n",
      "  src       = 14:cc:20:51:33:ea\n",
      "  type      = IPv4\n",
      "###[ IP ]### \n",
      "     version   = 4\n",
      "     ihl       = 5\n",
      "     tos       = 0x0\n",
      "     len       = 219\n",
      "     id        = 28540\n",
      "     flags     = DF\n",
      "     frag      = 0\n",
      "     ttl       = 228\n",
      "     proto     = tcp\n",
      "     chksum    = 0xdf6e\n",
      "     src       = 54.85.78.92\n",
      "     dst       = 192.168.1.216\n",
      "     \\options   \\\n",
      "###[ TCP ]### \n",
      "        sport     = https\n",
      "        dport     = 54251\n",
      "        seq       = 616862694\n",
      "        ack       = 99277396\n",
      "        dataofs   = 8\n",
      "        reserved  = 0\n",
      "        flags     = PA\n",
      "        window    = 187\n",
      "        chksum    = 0x512e\n",
      "        urgptr    = 0\n",
      "        options   = [('NOP', None), ('NOP', None), ('Timestamp', (1244438772, 764567))]\n",
      "###[ Raw ]### \n",
      "           load      = '\\x17\\x03\\x03\\x00\\xa2\\xd29\\xb3\\xf65\\x7f\\xc8f\\x94r\\xb6\\xe7\\x0c8\\xea\\xf7\\xc1Ny1\\x94\\xba\\x95b\\xbb\\xbcY8PQ\\x83\\xbd\\xc60\\xdc\\x9c\\x13O\\xf2;aM\\x97\\\\\\xb6\\x07\\xf6,%b\\xc3R\\xfa\\xa4\\xe4\\xe6[4\\xfb~\\xee\\x17\\xef\\x9b\\xf0\\xe4.\\x9d\\x14\\xd0\\xbf\\xbe\\x85\\x90\\\\\\xdajqPU\\xb4\\x94.\\xa5#\\xcb2\\xe9\\x1fj\\xb1\\xc1+\\xbb\\x8d5vn\\xe2B\\xb9\\xd2\\xab\\\\g\\x139\\xfbR>\\x1fBT\\xfa\\x8e$\\x84sPV\\x86JR\\x94\\x14\\xca\\xaa\\x90\\xf7f\\xc1_yl>\\xd1\\xaaVm\\xfe4\\x9e\\x03.\\x90\\x8b\\xe0\\x1cY\\xb5\\xf6\\xfbr\\xbb\\x85\\x15H\\x99m\\xe9\\x97H'\n",
      "\n"
     ]
    }
   ],
   "source": [
    "packet.show()"
   ]
  },
  {
   "cell_type": "code",
   "execution_count": 67,
   "metadata": {},
   "outputs": [],
   "source": [
    "for p in pr:\n",
    "    #print(str(p[0]))\n",
    "    pack = Ether(p)\n",
    "    break"
   ]
  },
  {
   "cell_type": "code",
   "execution_count": 69,
   "metadata": {},
   "outputs": [
    {
     "name": "stdout",
     "output_type": "stream",
     "text": [
      "###[ Raw ]### \n",
      "  load      = '\\x14\\xcc Q3\\xea\\xec\\x1aY\\x83(\\x11\\x08\\x00E\\x00\\x006&g@\\x00@\\x11\\x90Y\\xc0\\xa8\\x01\\xa5\\xc0\\xa8\\x01\\x01\\x0e\\xd1\\x005\\x00\"\\xa8\\x18\\x07M\\x01\\x00\\x00\\x01\\x00\\x00\\x00\\x00\\x00\\x00\\x04xbcs\\x03net\\x00\\x00\\x01\\x00\\x01'\n",
      "\n"
     ]
    }
   ],
   "source": [
    "pack.display()"
   ]
  },
  {
   "cell_type": "code",
   "execution_count": 37,
   "metadata": {},
   "outputs": [],
   "source": [
    "devices = open(devices_list).readlines()"
   ]
  },
  {
   "cell_type": "code",
   "execution_count": null,
   "metadata": {},
   "outputs": [],
   "source": [
    "devices[2].split('\\t\\t\\t\\t')[1].split('\\t')"
   ]
  },
  {
   "cell_type": "code",
   "execution_count": null,
   "metadata": {},
   "outputs": [],
   "source": [
    "dev_dict = {}"
   ]
  },
  {
   "cell_type": "code",
   "execution_count": null,
   "metadata": {},
   "outputs": [],
   "source": [
    "'''dev_name, dev_mac = '''\n",
    "devices[2].strip().split('\\t\\t')"
   ]
  },
  {
   "cell_type": "code",
   "execution_count": null,
   "metadata": {},
   "outputs": [],
   "source": [
    "dev_mac.split()"
   ]
  },
  {
   "cell_type": "code",
   "execution_count": null,
   "metadata": {},
   "outputs": [],
   "source": [
    "for device in devices[2:]:\n",
    "    print(device)\n",
    "    dev_name, dev_mac = device.split('\\t\\t')\n",
    "    dev_mac = dev_mac.split()[0]\n",
    "    print(dev_name,dev_mac)\n",
    "    dev_dict[dev_name] = dev_mac"
   ]
  },
  {
   "cell_type": "code",
   "execution_count": null,
   "metadata": {},
   "outputs": [],
   "source": [
    "dev_dict"
   ]
  },
  {
   "cell_type": "code",
   "execution_count": 14,
   "metadata": {},
   "outputs": [],
   "source": [
    "packets = rdpcap(file_path,count = 10)\n",
    "#packets.show()"
   ]
  },
  {
   "cell_type": "code",
   "execution_count": 17,
   "metadata": {},
   "outputs": [
    {
     "name": "stdout",
     "output_type": "stream",
     "text": [
      "###[ Ethernet ]### \n",
      "  dst       = 14:cc:20:51:33:ea\n",
      "  src       = e0:76:d0:3f:00:ae\n",
      "  type      = IPv4\n",
      "###[ IP ]### \n",
      "     version   = 4\n",
      "     ihl       = 5\n",
      "     tos       = 0x0\n",
      "     len       = 182\n",
      "     id        = 46366\n",
      "     flags     = DF\n",
      "     frag      = 0\n",
      "     ttl       = 64\n",
      "     proto     = tcp\n",
      "     chksum    = 0x3df2\n",
      "     src       = 192.168.1.216\n",
      "     dst       = 54.85.78.92\n",
      "     \\options   \\\n",
      "###[ TCP ]### \n",
      "        sport     = 54251\n",
      "        dport     = https\n",
      "        seq       = 99277396\n",
      "        ack       = 616862861\n",
      "        dataofs   = 8\n",
      "        reserved  = 0\n",
      "        flags     = PA\n",
      "        window    = 1321\n",
      "        chksum    = 0x51be\n",
      "        urgptr    = 0\n",
      "        options   = [('NOP', None), ('NOP', None), ('Timestamp', (766103, 1244438772))]\n",
      "###[ Raw ]### \n",
      "           load      = '\\x17\\x03\\x03\\x00}G\\x06\\\\\\t\\xf7+k\\xe6\\xaf\\xb0\\xdd$\\xa7\\xf8]&\\xa3Y\\xf20\\x11\\xd6Dm<\\xba\")\\n\\xf0\\xc4-`\\xa0\\xd6\\xf4\\x12\\x95h\\xb3\\xd5\\xc4.\\x8d\\x08\\xf7\\xaeD\\xa1{\\xf7\\x1f\\x98\\x9dGI\\xa5\\xa5\\x8f\\x11\\x85d\\xcb\\xf2\\x0e\\xa3[x\\x07&\\r\\xd38\\xf8F\\x8dTd\\xbe\\xf1\\x91\\xc94\\x00gs\\xde\\x02\"tJG7A\\xbb\\x96f\\t\\tt\\xa6\\x95\\xf2\\xf8\\xcf\\xdd\\xe9\\xbb\\xb2\\xca\\xbd\\x014\\xe2\\x104-\\x05?t\\t\\xdf\\x1c\\xafv'\n",
      "\n"
     ]
    }
   ],
   "source": [
    "packets[1].show()"
   ]
  },
  {
   "cell_type": "code",
   "execution_count": null,
   "metadata": {},
   "outputs": [],
   "source": [
    "sep_devices = {}"
   ]
  },
  {
   "cell_type": "code",
   "execution_count": null,
   "metadata": {},
   "outputs": [],
   "source": [
    "for packet in packets:\n",
    "    src = packet.fields['src']\n",
    "    if src not in sep_devices.keys():\n",
    "        sep_devices[src] = []\n",
    "    sep_devices[src].append(packet)\n"
   ]
  },
  {
   "cell_type": "code",
   "execution_count": null,
   "metadata": {},
   "outputs": [],
   "source": [
    "len(sep_devices.keys())"
   ]
  },
  {
   "cell_type": "code",
   "execution_count": null,
   "metadata": {},
   "outputs": [],
   "source": [
    "i=0\n",
    "for src in sep_devices:\n",
    "    wrpcap(file_path+str(i)+'.pcap',sep_devices[src])\n",
    "    i = i + 1"
   ]
  },
  {
   "cell_type": "code",
   "execution_count": null,
   "metadata": {},
   "outputs": [],
   "source": []
  },
  {
   "cell_type": "code",
   "execution_count": null,
   "metadata": {},
   "outputs": [],
   "source": []
  },
  {
   "cell_type": "code",
   "execution_count": null,
   "metadata": {},
   "outputs": [],
   "source": []
  },
  {
   "cell_type": "code",
   "execution_count": null,
   "metadata": {},
   "outputs": [],
   "source": []
  }
 ],
 "metadata": {
  "kernelspec": {
   "display_name": "Python 3",
   "language": "python",
   "name": "python3"
  },
  "language_info": {
   "codemirror_mode": {
    "name": "ipython",
    "version": 3
   },
   "file_extension": ".py",
   "mimetype": "text/x-python",
   "name": "python",
   "nbconvert_exporter": "python",
   "pygments_lexer": "ipython3",
   "version": "3.7.5"
  }
 },
 "nbformat": 4,
 "nbformat_minor": 4
}
