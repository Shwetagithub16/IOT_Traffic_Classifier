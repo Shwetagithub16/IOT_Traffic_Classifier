{
 "cells": [
  {
   "cell_type": "code",
   "execution_count": 1,
   "metadata": {},
   "outputs": [],
   "source": [
    "#import tensorflow as tf\n",
    "import pandas as pd\n",
    "import numpy as np\n",
    "import os\n",
    "import re\n",
    "from sklearn.preprocessing import LabelEncoder\n",
    "from sklearn.model_selection import train_test_split\n",
    "from utils import *"
   ]
  },
  {
   "cell_type": "code",
   "execution_count": 2,
   "metadata": {},
   "outputs": [],
   "source": [
    "path = '../Data/iot_23_datasets_small/opt/Malware-Project/BigDataset/IoTScenarios'"
   ]
  },
  {
   "cell_type": "code",
   "execution_count": 3,
   "metadata": {},
   "outputs": [],
   "source": [
    "all_files_path = []\n",
    "for folder in os.listdir(path):\n",
    "    subpath = path + '/' + folder\n",
    "    # print(return_final_folder(subpath))\n",
    "    all_files_path.append(return_final_folder(subpath))"
   ]
  },
  {
   "cell_type": "code",
   "execution_count": 4,
   "metadata": {},
   "outputs": [
    {
     "data": {
      "text/plain": [
       "['../Data/iot_23_datasets_small/opt/Malware-Project/BigDataset/IoTScenarios/CTU-Honeypot-Capture-4-1/bro/conn.log.labeled',\n",
       " '../Data/iot_23_datasets_small/opt/Malware-Project/BigDataset/IoTScenarios/CTU-Honeypot-Capture-5-1/bro/conn.log.labeled',\n",
       " '../Data/iot_23_datasets_small/opt/Malware-Project/BigDataset/IoTScenarios/CTU-Honeypot-Capture-7-1/Somfy-01/bro/conn.log.labeled',\n",
       " '../Data/iot_23_datasets_small/opt/Malware-Project/BigDataset/IoTScenarios/CTU-IoT-Malware-Capture-1-1/bro/conn.log.labeled',\n",
       " '../Data/iot_23_datasets_small/opt/Malware-Project/BigDataset/IoTScenarios/CTU-IoT-Malware-Capture-17-1/bro/conn.log.labeled',\n",
       " '../Data/iot_23_datasets_small/opt/Malware-Project/BigDataset/IoTScenarios/CTU-IoT-Malware-Capture-20-1/bro/conn.log.labeled',\n",
       " '../Data/iot_23_datasets_small/opt/Malware-Project/BigDataset/IoTScenarios/CTU-IoT-Malware-Capture-21-1/bro/conn.log.labeled',\n",
       " '../Data/iot_23_datasets_small/opt/Malware-Project/BigDataset/IoTScenarios/CTU-IoT-Malware-Capture-3-1/bro/conn.log.labeled',\n",
       " '../Data/iot_23_datasets_small/opt/Malware-Project/BigDataset/IoTScenarios/CTU-IoT-Malware-Capture-33-1/bro/conn.log.labeled',\n",
       " '../Data/iot_23_datasets_small/opt/Malware-Project/BigDataset/IoTScenarios/CTU-IoT-Malware-Capture-34-1/bro/conn.log.labeled',\n",
       " '../Data/iot_23_datasets_small/opt/Malware-Project/BigDataset/IoTScenarios/CTU-IoT-Malware-Capture-35-1/bro/conn.log.labeled',\n",
       " '../Data/iot_23_datasets_small/opt/Malware-Project/BigDataset/IoTScenarios/CTU-IoT-Malware-Capture-36-1/bro/conn.log.labeled',\n",
       " '../Data/iot_23_datasets_small/opt/Malware-Project/BigDataset/IoTScenarios/CTU-IoT-Malware-Capture-39-1/bro/conn.log.labeled',\n",
       " '../Data/iot_23_datasets_small/opt/Malware-Project/BigDataset/IoTScenarios/CTU-IoT-Malware-Capture-42-1/bro/conn.log.labeled',\n",
       " '../Data/iot_23_datasets_small/opt/Malware-Project/BigDataset/IoTScenarios/CTU-IoT-Malware-Capture-43-1/bro/conn.log.labeled',\n",
       " '../Data/iot_23_datasets_small/opt/Malware-Project/BigDataset/IoTScenarios/CTU-IoT-Malware-Capture-44-1/bro/conn.log.labeled',\n",
       " '../Data/iot_23_datasets_small/opt/Malware-Project/BigDataset/IoTScenarios/CTU-IoT-Malware-Capture-48-1/bro/conn.log.labeled',\n",
       " '../Data/iot_23_datasets_small/opt/Malware-Project/BigDataset/IoTScenarios/CTU-IoT-Malware-Capture-49-1/bro/conn.log.labeled',\n",
       " '../Data/iot_23_datasets_small/opt/Malware-Project/BigDataset/IoTScenarios/CTU-IoT-Malware-Capture-52-1/bro/conn.log.labeled',\n",
       " '../Data/iot_23_datasets_small/opt/Malware-Project/BigDataset/IoTScenarios/CTU-IoT-Malware-Capture-60-1/bro/conn.log.labeled',\n",
       " '../Data/iot_23_datasets_small/opt/Malware-Project/BigDataset/IoTScenarios/CTU-IoT-Malware-Capture-7-1/bro/conn.log.labeled',\n",
       " '../Data/iot_23_datasets_small/opt/Malware-Project/BigDataset/IoTScenarios/CTU-IoT-Malware-Capture-8-1/bro/conn.log.labeled',\n",
       " '../Data/iot_23_datasets_small/opt/Malware-Project/BigDataset/IoTScenarios/CTU-IoT-Malware-Capture-9-1/bro/conn.log.labeled']"
      ]
     },
     "execution_count": 4,
     "metadata": {},
     "output_type": "execute_result"
    }
   ],
   "source": [
    "all_files_path"
   ]
  },
  {
   "cell_type": "code",
   "execution_count": 5,
   "metadata": {},
   "outputs": [],
   "source": [
    "files = ['-1-1','-3-1','-8-1','-9-1']"
   ]
  },
  {
   "cell_type": "code",
   "execution_count": 6,
   "metadata": {},
   "outputs": [],
   "source": [
    "req_files = []"
   ]
  },
  {
   "cell_type": "code",
   "execution_count": 7,
   "metadata": {},
   "outputs": [],
   "source": [
    "for file in files:\n",
    "    req_files.extend([path for path in all_files_path if re.search(file, path)])"
   ]
  },
  {
   "cell_type": "code",
   "execution_count": 8,
   "metadata": {},
   "outputs": [
    {
     "data": {
      "text/plain": [
       "['../Data/iot_23_datasets_small/opt/Malware-Project/BigDataset/IoTScenarios/CTU-IoT-Malware-Capture-1-1/bro/conn.log.labeled',\n",
       " '../Data/iot_23_datasets_small/opt/Malware-Project/BigDataset/IoTScenarios/CTU-IoT-Malware-Capture-3-1/bro/conn.log.labeled',\n",
       " '../Data/iot_23_datasets_small/opt/Malware-Project/BigDataset/IoTScenarios/CTU-IoT-Malware-Capture-8-1/bro/conn.log.labeled',\n",
       " '../Data/iot_23_datasets_small/opt/Malware-Project/BigDataset/IoTScenarios/CTU-IoT-Malware-Capture-9-1/bro/conn.log.labeled']"
      ]
     },
     "execution_count": 8,
     "metadata": {},
     "output_type": "execute_result"
    }
   ],
   "source": [
    "req_files"
   ]
  },
  {
   "cell_type": "code",
   "execution_count": 9,
   "metadata": {},
   "outputs": [],
   "source": [
    "data = None"
   ]
  },
  {
   "cell_type": "code",
   "execution_count": 10,
   "metadata": {},
   "outputs": [
    {
     "name": "stdout",
     "output_type": "stream",
     "text": [
      "../Data/iot_23_datasets_small/opt/Malware-Project/BigDataset/IoTScenarios/CTU-IoT-Malware-Capture-1-1/bro/conn.log.labeled\n",
      "../Data/iot_23_datasets_small/opt/Malware-Project/BigDataset/IoTScenarios/CTU-IoT-Malware-Capture-3-1/bro/conn.log.labeled\n",
      "../Data/iot_23_datasets_small/opt/Malware-Project/BigDataset/IoTScenarios/CTU-IoT-Malware-Capture-8-1/bro/conn.log.labeled\n",
      "../Data/iot_23_datasets_small/opt/Malware-Project/BigDataset/IoTScenarios/CTU-IoT-Malware-Capture-9-1/bro/conn.log.labeled\n"
     ]
    }
   ],
   "source": [
    "for file in req_files:\n",
    "    if data is None:\n",
    "        data = ZeekLogs_to_csv(file)\n",
    "    else:\n",
    "        data_single = ZeekLogs_to_csv(file)\n",
    "        data = pd.concat([data,data_single],ignore_index=True)\n",
    "    print(file)\n",
    "    "
   ]
  },
  {
   "cell_type": "code",
   "execution_count": 11,
   "metadata": {},
   "outputs": [
    {
     "data": {
      "text/html": [
       "<div>\n",
       "<style scoped>\n",
       "    .dataframe tbody tr th:only-of-type {\n",
       "        vertical-align: middle;\n",
       "    }\n",
       "\n",
       "    .dataframe tbody tr th {\n",
       "        vertical-align: top;\n",
       "    }\n",
       "\n",
       "    .dataframe thead th {\n",
       "        text-align: right;\n",
       "    }\n",
       "</style>\n",
       "<table border=\"1\" class=\"dataframe\">\n",
       "  <thead>\n",
       "    <tr style=\"text-align: right;\">\n",
       "      <th></th>\n",
       "      <th>ts</th>\n",
       "      <th>uid</th>\n",
       "      <th>id.orig_h</th>\n",
       "      <th>id.orig_p</th>\n",
       "      <th>id.resp_h</th>\n",
       "      <th>id.resp_p</th>\n",
       "      <th>proto</th>\n",
       "      <th>service</th>\n",
       "      <th>duration</th>\n",
       "      <th>orig_bytes</th>\n",
       "      <th>...</th>\n",
       "      <th>local_resp</th>\n",
       "      <th>missed_bytes</th>\n",
       "      <th>history</th>\n",
       "      <th>orig_pkts</th>\n",
       "      <th>orig_ip_bytes</th>\n",
       "      <th>resp_pkts</th>\n",
       "      <th>resp_ip_bytes</th>\n",
       "      <th>tunnel_parents</th>\n",
       "      <th>label</th>\n",
       "      <th>detailed-label</th>\n",
       "    </tr>\n",
       "  </thead>\n",
       "  <tbody>\n",
       "    <tr>\n",
       "      <th>0</th>\n",
       "      <td>1.525880e+09</td>\n",
       "      <td>CUmrqr4svHuSXJy5z7</td>\n",
       "      <td>192.168.100.103</td>\n",
       "      <td>51524</td>\n",
       "      <td>65.127.233.163</td>\n",
       "      <td>23</td>\n",
       "      <td>tcp</td>\n",
       "      <td>-</td>\n",
       "      <td>2.999051</td>\n",
       "      <td>0</td>\n",
       "      <td>...</td>\n",
       "      <td>-</td>\n",
       "      <td>0</td>\n",
       "      <td>S</td>\n",
       "      <td>3</td>\n",
       "      <td>180</td>\n",
       "      <td>0</td>\n",
       "      <td>0</td>\n",
       "      <td>(empty)</td>\n",
       "      <td>Malicious</td>\n",
       "      <td>PartOfAHorizontalPortScan</td>\n",
       "    </tr>\n",
       "    <tr>\n",
       "      <th>1</th>\n",
       "      <td>1.525880e+09</td>\n",
       "      <td>CH98aB3s1kJeq6SFOc</td>\n",
       "      <td>192.168.100.103</td>\n",
       "      <td>56305</td>\n",
       "      <td>63.150.16.171</td>\n",
       "      <td>23</td>\n",
       "      <td>tcp</td>\n",
       "      <td>-</td>\n",
       "      <td>-</td>\n",
       "      <td>-</td>\n",
       "      <td>...</td>\n",
       "      <td>-</td>\n",
       "      <td>0</td>\n",
       "      <td>S</td>\n",
       "      <td>1</td>\n",
       "      <td>60</td>\n",
       "      <td>0</td>\n",
       "      <td>0</td>\n",
       "      <td>(empty)</td>\n",
       "      <td>Malicious</td>\n",
       "      <td>PartOfAHorizontalPortScan</td>\n",
       "    </tr>\n",
       "    <tr>\n",
       "      <th>2</th>\n",
       "      <td>1.525880e+09</td>\n",
       "      <td>C3GBTkINvXNjVGtN5</td>\n",
       "      <td>192.168.100.103</td>\n",
       "      <td>41101</td>\n",
       "      <td>111.40.23.49</td>\n",
       "      <td>23</td>\n",
       "      <td>tcp</td>\n",
       "      <td>-</td>\n",
       "      <td>-</td>\n",
       "      <td>-</td>\n",
       "      <td>...</td>\n",
       "      <td>-</td>\n",
       "      <td>0</td>\n",
       "      <td>S</td>\n",
       "      <td>1</td>\n",
       "      <td>60</td>\n",
       "      <td>0</td>\n",
       "      <td>0</td>\n",
       "      <td>(empty)</td>\n",
       "      <td>Malicious</td>\n",
       "      <td>PartOfAHorizontalPortScan</td>\n",
       "    </tr>\n",
       "    <tr>\n",
       "      <th>3</th>\n",
       "      <td>1.525880e+09</td>\n",
       "      <td>CDe43c1PtgynajGI6</td>\n",
       "      <td>192.168.100.103</td>\n",
       "      <td>60905</td>\n",
       "      <td>131.174.215.147</td>\n",
       "      <td>23</td>\n",
       "      <td>tcp</td>\n",
       "      <td>-</td>\n",
       "      <td>2.998796</td>\n",
       "      <td>0</td>\n",
       "      <td>...</td>\n",
       "      <td>-</td>\n",
       "      <td>0</td>\n",
       "      <td>S</td>\n",
       "      <td>3</td>\n",
       "      <td>180</td>\n",
       "      <td>0</td>\n",
       "      <td>0</td>\n",
       "      <td>(empty)</td>\n",
       "      <td>Malicious</td>\n",
       "      <td>PartOfAHorizontalPortScan</td>\n",
       "    </tr>\n",
       "    <tr>\n",
       "      <th>4</th>\n",
       "      <td>1.525880e+09</td>\n",
       "      <td>CJaDcG3MZzvf1YVYI4</td>\n",
       "      <td>192.168.100.103</td>\n",
       "      <td>44301</td>\n",
       "      <td>91.42.47.63</td>\n",
       "      <td>23</td>\n",
       "      <td>tcp</td>\n",
       "      <td>-</td>\n",
       "      <td>-</td>\n",
       "      <td>-</td>\n",
       "      <td>...</td>\n",
       "      <td>-</td>\n",
       "      <td>0</td>\n",
       "      <td>S</td>\n",
       "      <td>1</td>\n",
       "      <td>60</td>\n",
       "      <td>0</td>\n",
       "      <td>0</td>\n",
       "      <td>(empty)</td>\n",
       "      <td>Malicious</td>\n",
       "      <td>PartOfAHorizontalPortScan</td>\n",
       "    </tr>\n",
       "    <tr>\n",
       "      <th>...</th>\n",
       "      <td>...</td>\n",
       "      <td>...</td>\n",
       "      <td>...</td>\n",
       "      <td>...</td>\n",
       "      <td>...</td>\n",
       "      <td>...</td>\n",
       "      <td>...</td>\n",
       "      <td>...</td>\n",
       "      <td>...</td>\n",
       "      <td>...</td>\n",
       "      <td>...</td>\n",
       "      <td>...</td>\n",
       "      <td>...</td>\n",
       "      <td>...</td>\n",
       "      <td>...</td>\n",
       "      <td>...</td>\n",
       "      <td>...</td>\n",
       "      <td>...</td>\n",
       "      <td>...</td>\n",
       "      <td>...</td>\n",
       "      <td>...</td>\n",
       "    </tr>\n",
       "    <tr>\n",
       "      <th>7553542</th>\n",
       "      <td>1.532595e+09</td>\n",
       "      <td>CIHonx2ymqlX5DqnU2</td>\n",
       "      <td>192.168.100.111</td>\n",
       "      <td>28057</td>\n",
       "      <td>173.94.58.125</td>\n",
       "      <td>23</td>\n",
       "      <td>tcp</td>\n",
       "      <td>-</td>\n",
       "      <td>-</td>\n",
       "      <td>-</td>\n",
       "      <td>...</td>\n",
       "      <td>-</td>\n",
       "      <td>0</td>\n",
       "      <td>S</td>\n",
       "      <td>1</td>\n",
       "      <td>40</td>\n",
       "      <td>0</td>\n",
       "      <td>0</td>\n",
       "      <td>(empty)</td>\n",
       "      <td>Malicious</td>\n",
       "      <td>PartOfAHorizontalPortScan</td>\n",
       "    </tr>\n",
       "    <tr>\n",
       "      <th>7553543</th>\n",
       "      <td>1.532595e+09</td>\n",
       "      <td>CwhtUD3BIdOP5L6Y8g</td>\n",
       "      <td>192.168.100.111</td>\n",
       "      <td>52876</td>\n",
       "      <td>69.196.96.231</td>\n",
       "      <td>23</td>\n",
       "      <td>tcp</td>\n",
       "      <td>-</td>\n",
       "      <td>209.874367</td>\n",
       "      <td>0</td>\n",
       "      <td>...</td>\n",
       "      <td>-</td>\n",
       "      <td>0</td>\n",
       "      <td>ShA</td>\n",
       "      <td>8</td>\n",
       "      <td>360</td>\n",
       "      <td>1</td>\n",
       "      <td>44</td>\n",
       "      <td>(empty)</td>\n",
       "      <td>Benign</td>\n",
       "      <td>-</td>\n",
       "    </tr>\n",
       "    <tr>\n",
       "      <th>7553544</th>\n",
       "      <td>1.532592e+09</td>\n",
       "      <td>CxHWyM2vp5x1mCZmp3</td>\n",
       "      <td>192.168.100.111</td>\n",
       "      <td>39234</td>\n",
       "      <td>192.121.45.63</td>\n",
       "      <td>23</td>\n",
       "      <td>tcp</td>\n",
       "      <td>-</td>\n",
       "      <td>165.760290</td>\n",
       "      <td>0</td>\n",
       "      <td>...</td>\n",
       "      <td>-</td>\n",
       "      <td>0</td>\n",
       "      <td>ShA</td>\n",
       "      <td>5</td>\n",
       "      <td>220</td>\n",
       "      <td>1</td>\n",
       "      <td>44</td>\n",
       "      <td>(empty)</td>\n",
       "      <td>Benign</td>\n",
       "      <td>-</td>\n",
       "    </tr>\n",
       "    <tr>\n",
       "      <th>7553545</th>\n",
       "      <td>1.532595e+09</td>\n",
       "      <td>CtmaRjXW7FOus0sPa</td>\n",
       "      <td>168.102.14.4</td>\n",
       "      <td>11</td>\n",
       "      <td>192.168.100.111</td>\n",
       "      <td>0</td>\n",
       "      <td>icmp</td>\n",
       "      <td>-</td>\n",
       "      <td>-</td>\n",
       "      <td>-</td>\n",
       "      <td>...</td>\n",
       "      <td>-</td>\n",
       "      <td>0</td>\n",
       "      <td>-</td>\n",
       "      <td>1</td>\n",
       "      <td>68</td>\n",
       "      <td>0</td>\n",
       "      <td>0</td>\n",
       "      <td>(empty)</td>\n",
       "      <td>Benign</td>\n",
       "      <td>-</td>\n",
       "    </tr>\n",
       "    <tr>\n",
       "      <th>7553546</th>\n",
       "      <td>1.532595e+09</td>\n",
       "      <td>CUVfp02K1YEXmtDf2h</td>\n",
       "      <td>192.94.118.248</td>\n",
       "      <td>11</td>\n",
       "      <td>192.168.100.111</td>\n",
       "      <td>0</td>\n",
       "      <td>icmp</td>\n",
       "      <td>-</td>\n",
       "      <td>-</td>\n",
       "      <td>-</td>\n",
       "      <td>...</td>\n",
       "      <td>-</td>\n",
       "      <td>0</td>\n",
       "      <td>-</td>\n",
       "      <td>1</td>\n",
       "      <td>56</td>\n",
       "      <td>0</td>\n",
       "      <td>0</td>\n",
       "      <td>(empty)</td>\n",
       "      <td>Benign</td>\n",
       "      <td>-</td>\n",
       "    </tr>\n",
       "  </tbody>\n",
       "</table>\n",
       "<p>7553547 rows × 23 columns</p>\n",
       "</div>"
      ],
      "text/plain": [
       "                   ts                 uid        id.orig_h  id.orig_p  \\\n",
       "0        1.525880e+09  CUmrqr4svHuSXJy5z7  192.168.100.103      51524   \n",
       "1        1.525880e+09  CH98aB3s1kJeq6SFOc  192.168.100.103      56305   \n",
       "2        1.525880e+09   C3GBTkINvXNjVGtN5  192.168.100.103      41101   \n",
       "3        1.525880e+09   CDe43c1PtgynajGI6  192.168.100.103      60905   \n",
       "4        1.525880e+09  CJaDcG3MZzvf1YVYI4  192.168.100.103      44301   \n",
       "...               ...                 ...              ...        ...   \n",
       "7553542  1.532595e+09  CIHonx2ymqlX5DqnU2  192.168.100.111      28057   \n",
       "7553543  1.532595e+09  CwhtUD3BIdOP5L6Y8g  192.168.100.111      52876   \n",
       "7553544  1.532592e+09  CxHWyM2vp5x1mCZmp3  192.168.100.111      39234   \n",
       "7553545  1.532595e+09   CtmaRjXW7FOus0sPa     168.102.14.4         11   \n",
       "7553546  1.532595e+09  CUVfp02K1YEXmtDf2h   192.94.118.248         11   \n",
       "\n",
       "               id.resp_h  id.resp_p proto service    duration orig_bytes  ...  \\\n",
       "0         65.127.233.163         23   tcp       -    2.999051          0  ...   \n",
       "1          63.150.16.171         23   tcp       -           -          -  ...   \n",
       "2           111.40.23.49         23   tcp       -           -          -  ...   \n",
       "3        131.174.215.147         23   tcp       -    2.998796          0  ...   \n",
       "4            91.42.47.63         23   tcp       -           -          -  ...   \n",
       "...                  ...        ...   ...     ...         ...        ...  ...   \n",
       "7553542    173.94.58.125         23   tcp       -           -          -  ...   \n",
       "7553543    69.196.96.231         23   tcp       -  209.874367          0  ...   \n",
       "7553544    192.121.45.63         23   tcp       -  165.760290          0  ...   \n",
       "7553545  192.168.100.111          0  icmp       -           -          -  ...   \n",
       "7553546  192.168.100.111          0  icmp       -           -          -  ...   \n",
       "\n",
       "        local_resp missed_bytes history orig_pkts  orig_ip_bytes resp_pkts  \\\n",
       "0                -            0       S         3            180         0   \n",
       "1                -            0       S         1             60         0   \n",
       "2                -            0       S         1             60         0   \n",
       "3                -            0       S         3            180         0   \n",
       "4                -            0       S         1             60         0   \n",
       "...            ...          ...     ...       ...            ...       ...   \n",
       "7553542          -            0       S         1             40         0   \n",
       "7553543          -            0     ShA         8            360         1   \n",
       "7553544          -            0     ShA         5            220         1   \n",
       "7553545          -            0       -         1             68         0   \n",
       "7553546          -            0       -         1             56         0   \n",
       "\n",
       "         resp_ip_bytes  tunnel_parents      label             detailed-label  \n",
       "0                    0         (empty)  Malicious  PartOfAHorizontalPortScan  \n",
       "1                    0         (empty)  Malicious  PartOfAHorizontalPortScan  \n",
       "2                    0         (empty)  Malicious  PartOfAHorizontalPortScan  \n",
       "3                    0         (empty)  Malicious  PartOfAHorizontalPortScan  \n",
       "4                    0         (empty)  Malicious  PartOfAHorizontalPortScan  \n",
       "...                ...             ...        ...                        ...  \n",
       "7553542              0         (empty)  Malicious  PartOfAHorizontalPortScan  \n",
       "7553543             44         (empty)     Benign                          -  \n",
       "7553544             44         (empty)     Benign                          -  \n",
       "7553545              0         (empty)     Benign                          -  \n",
       "7553546              0         (empty)     Benign                          -  \n",
       "\n",
       "[7553547 rows x 23 columns]"
      ]
     },
     "execution_count": 11,
     "metadata": {},
     "output_type": "execute_result"
    }
   ],
   "source": [
    "data"
   ]
  },
  {
   "cell_type": "code",
   "execution_count": 12,
   "metadata": {},
   "outputs": [
    {
     "data": {
      "text/plain": [
       "(18136,)"
      ]
     },
     "execution_count": 12,
     "metadata": {},
     "output_type": "execute_result"
    }
   ],
   "source": [
    "data['id.orig_h'].unique().shape"
   ]
  },
  {
   "cell_type": "code",
   "execution_count": 13,
   "metadata": {},
   "outputs": [
    {
     "data": {
      "text/plain": [
       "Index(['ts', 'uid', 'id.orig_h', 'id.orig_p', 'id.resp_h', 'id.resp_p',\n",
       "       'proto', 'service', 'duration', 'orig_bytes', 'resp_bytes',\n",
       "       'conn_state', 'local_orig', 'local_resp', 'missed_bytes', 'history',\n",
       "       'orig_pkts', 'orig_ip_bytes', 'resp_pkts', 'resp_ip_bytes',\n",
       "       'tunnel_parents', 'label', 'detailed-label'],\n",
       "      dtype='object')"
      ]
     },
     "execution_count": 13,
     "metadata": {},
     "output_type": "execute_result"
    }
   ],
   "source": [
    "data.columns"
   ]
  },
  {
   "cell_type": "code",
   "execution_count": 14,
   "metadata": {},
   "outputs": [],
   "source": [
    "# data.describe(include='all')"
   ]
  },
  {
   "cell_type": "code",
   "execution_count": 15,
   "metadata": {},
   "outputs": [
    {
     "data": {
      "text/plain": [
       "0          -\n",
       "1          -\n",
       "2          -\n",
       "3          -\n",
       "4          -\n",
       "          ..\n",
       "7553542    -\n",
       "7553543    -\n",
       "7553544    -\n",
       "7553545    -\n",
       "7553546    -\n",
       "Name: service, Length: 7553547, dtype: object"
      ]
     },
     "execution_count": 15,
     "metadata": {},
     "output_type": "execute_result"
    }
   ],
   "source": [
    "data['service']"
   ]
  },
  {
   "cell_type": "code",
   "execution_count": 16,
   "metadata": {},
   "outputs": [],
   "source": [
    "drop_columns = ['uid','service','conn_state','local_resp', 'local_orig','history','tunnel_parents']"
   ]
  },
  {
   "cell_type": "code",
   "execution_count": 17,
   "metadata": {},
   "outputs": [],
   "source": [
    "data = data.drop(columns=drop_columns)"
   ]
  },
  {
   "cell_type": "code",
   "execution_count": 18,
   "metadata": {},
   "outputs": [],
   "source": [
    "data['detailed-label'] = data['detailed-label'].replace(to_replace= '-',value= 'Benign')"
   ]
  },
  {
   "cell_type": "code",
   "execution_count": 19,
   "metadata": {
    "scrolled": true
   },
   "outputs": [
    {
     "name": "stdout",
     "output_type": "stream",
     "text": [
      "0          1.525880e+09\n",
      "1          1.525880e+09\n",
      "2          1.525880e+09\n",
      "3          1.525880e+09\n",
      "4          1.525880e+09\n",
      "               ...     \n",
      "7553542    1.532595e+09\n",
      "7553543    1.532595e+09\n",
      "7553544    1.532592e+09\n",
      "7553545    1.532595e+09\n",
      "7553546    1.532595e+09\n",
      "Name: ts, Length: 7553547, dtype: float64\n",
      "0          192.168.100.103\n",
      "1          192.168.100.103\n",
      "2          192.168.100.103\n",
      "3          192.168.100.103\n",
      "4          192.168.100.103\n",
      "                ...       \n",
      "7553542    192.168.100.111\n",
      "7553543    192.168.100.111\n",
      "7553544    192.168.100.111\n",
      "7553545       168.102.14.4\n",
      "7553546     192.94.118.248\n",
      "Name: id.orig_h, Length: 7553547, dtype: object\n",
      "0          51524\n",
      "1          56305\n",
      "2          41101\n",
      "3          60905\n",
      "4          44301\n",
      "           ...  \n",
      "7553542    28057\n",
      "7553543    52876\n",
      "7553544    39234\n",
      "7553545       11\n",
      "7553546       11\n",
      "Name: id.orig_p, Length: 7553547, dtype: int64\n",
      "0           65.127.233.163\n",
      "1            63.150.16.171\n",
      "2             111.40.23.49\n",
      "3          131.174.215.147\n",
      "4              91.42.47.63\n",
      "                ...       \n",
      "7553542      173.94.58.125\n",
      "7553543      69.196.96.231\n",
      "7553544      192.121.45.63\n",
      "7553545    192.168.100.111\n",
      "7553546    192.168.100.111\n",
      "Name: id.resp_h, Length: 7553547, dtype: object\n",
      "0          23\n",
      "1          23\n",
      "2          23\n",
      "3          23\n",
      "4          23\n",
      "           ..\n",
      "7553542    23\n",
      "7553543    23\n",
      "7553544    23\n",
      "7553545     0\n",
      "7553546     0\n",
      "Name: id.resp_p, Length: 7553547, dtype: int64\n",
      "0           tcp\n",
      "1           tcp\n",
      "2           tcp\n",
      "3           tcp\n",
      "4           tcp\n",
      "           ... \n",
      "7553542     tcp\n",
      "7553543     tcp\n",
      "7553544     tcp\n",
      "7553545    icmp\n",
      "7553546    icmp\n",
      "Name: proto, Length: 7553547, dtype: object\n",
      "0            2.999051\n",
      "1                   -\n",
      "2                   -\n",
      "3            2.998796\n",
      "4                   -\n",
      "              ...    \n",
      "7553542             -\n",
      "7553543    209.874367\n",
      "7553544    165.760290\n",
      "7553545             -\n",
      "7553546             -\n",
      "Name: duration, Length: 7553547, dtype: object\n",
      "0          0\n",
      "1          -\n",
      "2          -\n",
      "3          0\n",
      "4          -\n",
      "          ..\n",
      "7553542    -\n",
      "7553543    0\n",
      "7553544    0\n",
      "7553545    -\n",
      "7553546    -\n",
      "Name: orig_bytes, Length: 7553547, dtype: object\n",
      "0          0\n",
      "1          -\n",
      "2          -\n",
      "3          0\n",
      "4          -\n",
      "          ..\n",
      "7553542    -\n",
      "7553543    0\n",
      "7553544    0\n",
      "7553545    -\n",
      "7553546    -\n",
      "Name: resp_bytes, Length: 7553547, dtype: object\n",
      "0          0\n",
      "1          0\n",
      "2          0\n",
      "3          0\n",
      "4          0\n",
      "          ..\n",
      "7553542    0\n",
      "7553543    0\n",
      "7553544    0\n",
      "7553545    0\n",
      "7553546    0\n",
      "Name: missed_bytes, Length: 7553547, dtype: int64\n",
      "0          3\n",
      "1          1\n",
      "2          1\n",
      "3          3\n",
      "4          1\n",
      "          ..\n",
      "7553542    1\n",
      "7553543    8\n",
      "7553544    5\n",
      "7553545    1\n",
      "7553546    1\n",
      "Name: orig_pkts, Length: 7553547, dtype: int64\n",
      "0          180\n",
      "1           60\n",
      "2           60\n",
      "3          180\n",
      "4           60\n",
      "          ... \n",
      "7553542     40\n",
      "7553543    360\n",
      "7553544    220\n",
      "7553545     68\n",
      "7553546     56\n",
      "Name: orig_ip_bytes, Length: 7553547, dtype: int64\n",
      "0          0\n",
      "1          0\n",
      "2          0\n",
      "3          0\n",
      "4          0\n",
      "          ..\n",
      "7553542    0\n",
      "7553543    1\n",
      "7553544    1\n",
      "7553545    0\n",
      "7553546    0\n",
      "Name: resp_pkts, Length: 7553547, dtype: int64\n",
      "0           0\n",
      "1           0\n",
      "2           0\n",
      "3           0\n",
      "4           0\n",
      "           ..\n",
      "7553542     0\n",
      "7553543    44\n",
      "7553544    44\n",
      "7553545     0\n",
      "7553546     0\n",
      "Name: resp_ip_bytes, Length: 7553547, dtype: int64\n",
      "0          Malicious\n",
      "1          Malicious\n",
      "2          Malicious\n",
      "3          Malicious\n",
      "4          Malicious\n",
      "             ...    \n",
      "7553542    Malicious\n",
      "7553543       Benign\n",
      "7553544       Benign\n",
      "7553545       Benign\n",
      "7553546       Benign\n",
      "Name: label, Length: 7553547, dtype: object\n",
      "0          PartOfAHorizontalPortScan\n",
      "1          PartOfAHorizontalPortScan\n",
      "2          PartOfAHorizontalPortScan\n",
      "3          PartOfAHorizontalPortScan\n",
      "4          PartOfAHorizontalPortScan\n",
      "                     ...            \n",
      "7553542    PartOfAHorizontalPortScan\n",
      "7553543                       Benign\n",
      "7553544                       Benign\n",
      "7553545                       Benign\n",
      "7553546                       Benign\n",
      "Name: detailed-label, Length: 7553547, dtype: object\n"
     ]
    }
   ],
   "source": [
    "for column in data.columns:\n",
    "    print(data.get(column))"
   ]
  },
  {
   "cell_type": "code",
   "execution_count": 20,
   "metadata": {},
   "outputs": [
    {
     "data": {
      "text/plain": [
       "ts                float64\n",
       "id.orig_h          object\n",
       "id.orig_p           int64\n",
       "id.resp_h          object\n",
       "id.resp_p           int64\n",
       "proto              object\n",
       "duration           object\n",
       "orig_bytes         object\n",
       "resp_bytes         object\n",
       "missed_bytes        int64\n",
       "orig_pkts           int64\n",
       "orig_ip_bytes       int64\n",
       "resp_pkts           int64\n",
       "resp_ip_bytes       int64\n",
       "label              object\n",
       "detailed-label     object\n",
       "dtype: object"
      ]
     },
     "execution_count": 20,
     "metadata": {},
     "output_type": "execute_result"
    }
   ],
   "source": [
    "data.dtypes"
   ]
  },
  {
   "cell_type": "code",
   "execution_count": 21,
   "metadata": {},
   "outputs": [],
   "source": [
    "# data.describe(include='all')"
   ]
  },
  {
   "cell_type": "code",
   "execution_count": 22,
   "metadata": {
    "scrolled": true
   },
   "outputs": [
    {
     "name": "stdout",
     "output_type": "stream",
     "text": [
      "ts [1.52587983e+09 1.52587983e+09 1.52587983e+09 ... 1.53259167e+09\n",
      " 1.53259515e+09 1.53259515e+09]\n",
      "id.orig_h ['192.168.100.103' '192.168.100.1' '122.152.1.198' ... '46.150.97.66'\n",
      " '124.198.4.3' '192.94.118.248']\n",
      "id.orig_p [51524 56305 41101 ... 30001 14301 32685]\n",
      "id.resp_h ['65.127.233.163' '63.150.16.171' '111.40.23.49' ... '67.180.253.231'\n",
      " '66.235.95.34' '173.94.58.125']\n",
      "id.resp_p [   23 49560 21288 ... 17503 42991 35113]\n",
      "proto ['tcp' 'udp' 'icmp']\n",
      "duration ['2.999051' '-' '2.998796' ... '0.351542' '209.874367' '165.760290']\n",
      "orig_bytes ['0' '-' '48' '180' '120' '400' '80' '220' '440' '56' '18' '360' '260'\n",
      " '62' '64' '66' '60' '63' '65' '72' '61' '55' '73' '70' '67' '68' '69'\n",
      " '57' '58' '79' '59' '78' '81' '85' '77' '75' '74' '83' '76' '92' '71'\n",
      " '88' '110' '51' '41' '52' '53' '54' '50' '49' '47' '44' '43' '300' '46'\n",
      " '45' '104' '86' '84' '90' '87' '82' '93' '89' '96' '97' '94' '91' '103'\n",
      " '95' '109' '31' '129' '42' '114' '133' '102' '123' '113' '101' '112'\n",
      " '107' '122' '121' '170' '98' '176' '39' '108' '128' '115' '127' '117'\n",
      " '160' '106' '124' '40' '136' '139' '118' '155' '105' '340' '100' '116'\n",
      " '99' '111' '119' '125' '240' '620' '32' '30' '33' '26' '34' '29' '36'\n",
      " '35' '28' '37' '38' '24' '156' '580' '140' '920' '168' '720' '288' '800'\n",
      " '132' '9' '336' '12' '3' '15' '27' '480' '1533' '1536' '144' '214' '17'\n",
      " '235' '218' '167' '172' '280' '21' '560' '540' '594' '23' '4' '593' '588'\n",
      " '166' '169' '185' '600' '273' '272' '2202' '420' '500' '520' '380' '200'\n",
      " '320' '640' '589' '448' '605' '333' '385' '537' '576' '325' '892' '1036'\n",
      " '227' '437' '365' '1744' '1988' '1560' '3340' '2509' '1641' '349' '597'\n",
      " '581' '701' '1308' '196' '521' '1576' '1004' '6303' '2376' '134' '2956'\n",
      " '173' '212' '343' '318' '201' '304' '407' '488' '681' '237' '206' '2820'\n",
      " '546' '479' '530' '268' '459' '346' '424' '637' '284' '386' '742' '703'\n",
      " '421' '438' '509' '279' '183' '667' '487' '558' '1021' '636' '309' '1272'\n",
      " '412' '186' '184' '1059' '1166' '515' '1484' '664' '524' '491' '1618'\n",
      " '809' '954' '1254' '1060' '1802' '2611' '1088' '1194' '452' '812' '915'\n",
      " '627' '833' '982' '141' '1657' '1057' '824' '187' '519' '770' '2060'\n",
      " '1339' '1696' '848' '4346' '618' '1442' '1590' '2226' '876' '1127' '1030'\n",
      " '224' '621' '2784' '730' '247' '1460' '842' '1854' '2399' '1908' '2014'\n",
      " '942' '700' '806' '1403' '1881' '992' '1378' '2332' '2862' '2266' '1581'\n",
      " '1366' '190' '307' '213' '390' '179' '1975' '435' '2650' '137' '1551'\n",
      " '472' '1751' '739' '1481' '948' '1372' '382' '1157' '1982' '455' '729'\n",
      " '410' '837' '721' '2481' '418' '630' '839' '1227' '1048' '901' '374'\n",
      " '1263' '736' '692' '388' '555' '1900' '586' '527' '633' '591' '1007'\n",
      " '622' '625' '191' '413' '1236' '339' '835' '1155' '674' '1351' '126'\n",
      " '312' '209' '689' '392' '1406' '1233' '960' '624' '353' '847' '1791'\n",
      " '945' '3556' '5088' '3459' '2544' '2120' '1648' '1151' '1375' '1693'\n",
      " '2081' '1365' '927' '415' '276' '1445' '1100' '904' '529' '11361' '1260'\n",
      " '976' '2211' '1160' '2008' '733' '940' '549' '979' '845' '846' '1321'\n",
      " '764' '315' '1478' '1213' '1107' '443' '192' '803' '909' '661' '658'\n",
      " '697' '485' '903' '1473' '724' '873' '462' '310' '583' '379' '756' '867'\n",
      " '376' '951' '1469' '1054' '2105' '1896' '694' '511' '1033' '274' '912'\n",
      " '1012' '1380' '1712' '369' '1269' '1542' '1796' '1163' '3486' '6321'\n",
      " '6042' '4731' '402' '1787' '1545' '1440' '4004' '4231' '1899' '4516'\n",
      " '2644' '2432' '2541' '2920' '2429' '182' '936' '3256' '3153' '1690' '449'\n",
      " '2965' '3068' '2856' '2753' '2853' '2114' '3171' '423' '1684' '1760'\n",
      " '2935' '2205' '1587' '2002' '4044' '1297' '2078' '1124' '1522' '246'\n",
      " '1129' '1681' '628' '1589' '2208' '1022' '3714' '305' '1116' '4438'\n",
      " '1024' '1433' '3977' '2750' '3065' '1018' '2087' '3074' '1352' '2517'\n",
      " '2217' '1966' '2329' '3244' '626' '1628' '3126' '1336' '2187' '138'\n",
      " '1039' '1257' '2190' '2926' '5258' '10122' '258']\n",
      "resp_bytes ['0' '-' '48' '139' '37' '486' '497' '339' '215' '218' '217' '214' '216'\n",
      " '221' '219' '213' '224' '220' '211' '485' '2089' '2086' '2095' '1762'\n",
      " '2088' '2087' '2090' '2085' '2092' '1759' '1761' '2091' '1760' '208'\n",
      " '204' '212' '209' '205' '207' '201' '206' '210' '199' '202' '203' '40'\n",
      " '689' '686' '690' '687' '688' '684' '699' '697' '696' '691' '685' '692'\n",
      " '695' '5480' '284' '267' '268' '283' '286' '285' '282' '266' '289' '265'\n",
      " '287' '281' '292' '288' '1864' '295' '270' '293' '272' '269' '351' '75'\n",
      " '565' '352' '150' '160' '421' '508' '341' '416' '233' '343' '420' '347'\n",
      " '492' '427' '668' '413' '182' '338' '736' '147' '414' '425' '304' '435'\n",
      " '423' '242' '316' '593' '419' '345' '225' '491' '148' '362' '506' '479'\n",
      " '346' '349' '568' '153' '122' '588' '161' '149' '433' '309' '164' '117'\n",
      " '290' '1550' '1472' '1552' '1553' '1473' '1567' '1585' '1474' '1555'\n",
      " '1478' '1475' '1556' '1554' '1548' '1551' '1476' '1549' '1558' '1547'\n",
      " '373' '374' '372' '380' '1546' '378' '1565' '379' '375' '1924' '376'\n",
      " '383' '368' '369' '1477' '1561' '371' '382' '1397' '370' '1557' '377'\n",
      " '367' '381' '1481' '2902' '163' '256' '251' '250' '252' '254' '253' '257'\n",
      " '255' '249' '260' '227' '3399' '63' '57' '236' '91' '87' '98' '90' '96'\n",
      " '94' '88' '89' '86' '85' '105' '92' '84' '93' '101' '81' '97' '109' '82'\n",
      " '3336' '106' '15' '456' '366' '384' '3335' '325' '721' '144' '2779'\n",
      " '1676' '111' '72' '2080' '2034' '2084' '2079' '2078' '2082' '2081' '2083'\n",
      " '2077' '2037' '1934' '2035' '757' '723' '386' '1716' '238' '239' '237'\n",
      " '247' '243' '241' '245' '240' '246' '244' '259' '248' '258' '1227' '62'\n",
      " '442' '445' '444' '443' '441' '449' '448' '447' '453' '553' '555' '446'\n",
      " '452' '551' '454' '450' '550' '451' '554' '440' '33' '552' '336' '200'\n",
      " '189' '192' '193' '190' '191' '187' '194' '188' '195' '198' '326' '1592'\n",
      " '27' '223' '222' '173' '176' '73' '174' '175' '705' '706' '61' '3' '32'\n",
      " '45' '53' '35' '36' '39' '38' '42' '51' '34' '55' '52' '41' '44' '170'\n",
      " '154' '157' '169' '156' '158' '168' '155' '162' '165' '172' '159' '166'\n",
      " '340' '167' '171' '152' '83' '143' '183' '177' '178' '185' '186' '181'\n",
      " '184' '12' '693' '701' '703' '702' '767' '700' '694' '704' '180' '179'\n",
      " '392' '300' '931' '921' '919' '920' '923' '922' '918' '925' '928' '930'\n",
      " '924' '929' '940' '926' '927' '917' '99' '103' '107' '104' '113' '102'\n",
      " '114' '108' '110' '120' '100' '118' '299' '17' '297' '328' '1538' '1533'\n",
      " '1572' '1536' '1545' '1537' '1534' '1571' '1539' '1535' '1543' '1540'\n",
      " '1541' '1542' '1573' '1574' '1576' '1578' '1575' '1532' '1531' '357'\n",
      " '356' '364' '355' '507' '230' '77' '303' '291' '301' '294' '306' '307'\n",
      " '302' '308' '313' '312' '305' '296' '298' '311' '314' '137' '315' '235'\n",
      " '232' '234' '70' '69' '226' '228' '18' '74' '79' '29' '592' '595' '596'\n",
      " '594' '586' '590' '587' '597' '591' '589' '598' '585' '601' '95' '582'\n",
      " '1453' '76' '504' '583' '599' '65' '151' '2780' '275' '274' '271' '273'\n",
      " '278' '276' '277' '8991' '112' '1378' '465' '280' '2565' '1801' '1581'\n",
      " '2241' '1717' '546' '1769' '1683' '1783' '1815' '21' '1148' '1' '2600'\n",
      " '1094' '1664' '1084' '1016' '1092' '1024' '1985' '1096' '794' '933'\n",
      " '2296' '1017' '991' '1102' '1793' '765' '1580' '2108' '1103' '1095'\n",
      " '1709' '2265' '1348' '1047' '1135' '1187' '1083' '3923' '891' '1112'\n",
      " '1167' '1159' '1601' '1945' '1087' '2583' '857' '2177' '1069' '600'\n",
      " '2578' '1301' '2603' '2209' '1119' '1111' '983' '1933' '322' '477' '533'\n",
      " '835' '887' '827' '895' '1162' '1100' '1745' '2599' '1123' '1115' '1151'\n",
      " '1091' '1048' '782' '774' '890' '888' '1365' '2021' '2412' '1340' '775'\n",
      " '1341' '2590' '815' '1429' '1461' '1523' '1434' '1000' '932' '985' '2574'\n",
      " '2940' '2581' '1001' '1101' '667' '391' '1015' '1809' '2225' '1802'\n",
      " '2604' '1176' '24' '1413' '1421' '1080' '1003' '1250' '1817' '631' '49'\n",
      " '1891' '9069' '5464' '549' '319' '47' '678' '792' '359' '488' '937' '578'\n",
      " '330' '68' '80' '1390' '561' '1265' '807' '816' '1518' '1451' '798' '800'\n",
      " '457' '55565' '666' '58' '409' '317' '624' '616' '1189' '570' '855'\n",
      " '3443' '337' '638' '59' '389' '1595' '1276' '407' '957' '2889' '656'\n",
      " '975' '906' '334' '1825' '715' '262' '632' '1037' '7525' '320' '146'\n",
      " '127' '503' '353' '1302' '196' '844' '2277' '1053' '1122' '2754' '136'\n",
      " '1836' '1859' '2076' '936' '604' '365' '404' '994' '650' '60' '914' '279'\n",
      " '563' '335' '20' '674' '1954' '354' '66' '1328' '529' '385' '30' '608'\n",
      " '126' '140' '951' '634' '1072' '804' '643' '619' '1443' '1140' '946'\n",
      " '390' '67' '4946' '851' '2142' '636' '5982' '82165' '1098' '610' '976'\n",
      " '3416' '3138' '1107' '1464' '2928' '771' '2440' '571' '1235' '2013' '612'\n",
      " '2106' '1952' '7640' '990' '864' '399' '821' '1125' '131' '744' '897'\n",
      " '2210' '728' '645' '2153' '520' '1660' '2501' '69094' '4453' '1041' '988'\n",
      " '13973' '659' '1116' '628' '131152' '1744' '1604' '558' '2510' '838'\n",
      " '93724' '1034' '3965' '132' '4646' '1510' '459' '993' '1097' '544' '651'\n",
      " '2514' '953' '1056' '630']\n",
      "missed_bytes [   0 8088 1440 8160]\n",
      "orig_pkts [   3    1    2    7   12    4    8    9   10    0   11    5    6   13\n",
      "   20   21   22   23   25   27   26   28   29   16   15   17   18   24\n",
      "   41   42   31   30   40   34   39   32   37   33   44   46   43   14\n",
      "   19   35   38   36   47   45   50   51   49   48   52   60  203   92\n",
      "  745 3031  128   57   58   77   59   96   95]\n",
      "orig_ip_bytes [  180    60   120 ... 12810   485  4078]\n",
      "resp_pkts [   0    1   12    3    4    2   11   13    5   17   18   19   20   16\n",
      "   25   24   27   26   23   22   28   36   33   37   34   35   31   32\n",
      "   38   39   42   43    6   57   56   54   44   40   45   58   61   55\n",
      "   59   14   15    9   30   21    7    8   41   52   60   53   75   63\n",
      "   64   62   66   73   69   49   65   72   29   47   51   10   46  389\n",
      "  171   74 1454 5975  103  114]\n",
      "resp_ip_bytes [   0   40   76 ... 2766 1212 5194]\n",
      "label ['Malicious' 'Benign']\n",
      "detailed-label ['PartOfAHorizontalPortScan' 'Benign' 'C&C' 'Attack']\n"
     ]
    }
   ],
   "source": [
    "for column in data.columns:\n",
    "    print(column, data[column].unique())"
   ]
  },
  {
   "cell_type": "code",
   "execution_count": 23,
   "metadata": {},
   "outputs": [],
   "source": [
    "data1 = data.replace(to_replace='-', value=pd.NA)"
   ]
  },
  {
   "cell_type": "code",
   "execution_count": 24,
   "metadata": {},
   "outputs": [
    {
     "data": {
      "text/plain": [
       "ts                7553547\n",
       "id.orig_h         7553547\n",
       "id.orig_p         7553547\n",
       "id.resp_h         7553547\n",
       "id.resp_p         7553547\n",
       "proto             7553547\n",
       "duration           315437\n",
       "orig_bytes         315437\n",
       "resp_bytes         315437\n",
       "missed_bytes      7553547\n",
       "orig_pkts         7553547\n",
       "orig_ip_bytes     7553547\n",
       "resp_pkts         7553547\n",
       "resp_ip_bytes     7553547\n",
       "label             7553547\n",
       "detailed-label    7553547\n",
       "dtype: int64"
      ]
     },
     "execution_count": 24,
     "metadata": {},
     "output_type": "execute_result"
    }
   ],
   "source": [
    "data1.count()"
   ]
  },
  {
   "cell_type": "code",
   "execution_count": 25,
   "metadata": {
    "scrolled": true
   },
   "outputs": [
    {
     "name": "stdout",
     "output_type": "stream",
     "text": [
      "ts 1.532546e+09    1\n",
      "1.532568e+09    1\n",
      "1.532566e+09    1\n",
      "1.532573e+09    1\n",
      "1.526145e+09    1\n",
      "               ..\n",
      "1.532556e+09    1\n",
      "1.532559e+09    1\n",
      "1.532592e+09    1\n",
      "1.532583e+09    1\n",
      "1.532548e+09    1\n",
      "Name: ts, Length: 7553547, dtype: int64\n",
      "id.orig_h 192.168.100.111    6375629\n",
      "192.168.100.103     991061\n",
      "192.168.2.5         154886\n",
      "192.168.100.113      10401\n",
      "192.168.100.1         1651\n",
      "                    ...   \n",
      "91.249.40.172            1\n",
      "168.194.15.62            1\n",
      "187.125.33.50            1\n",
      "195.159.139.194          1\n",
      "179.231.228.69           1\n",
      "Name: id.orig_h, Length: 18136, dtype: int64\n",
      "id.orig_p 43763    399734\n",
      "3         17083\n",
      "29930     14157\n",
      "123       11563\n",
      "11         4409\n",
      "          ...  \n",
      "4301         65\n",
      "32543        64\n",
      "5017         64\n",
      "14523        63\n",
      "27028        62\n",
      "Name: id.orig_p, Length: 65536, dtype: int64\n",
      "id.resp_h 200.168.87.203     23295\n",
      "192.168.100.103    17687\n",
      "147.231.100.5       5636\n",
      "178.128.185.250     4112\n",
      "128.185.250.50      4110\n",
      "                   ...  \n",
      "44.157.47.24           1\n",
      "114.13.69.195          1\n",
      "3.125.64.204           1\n",
      "175.219.104.194        1\n",
      "154.151.187.55         1\n",
      "Name: id.resp_h, Length: 5878952, dtype: int64\n",
      "id.resp_p 23       4056209\n",
      "81       2575622\n",
      "8080      135382\n",
      "22        130882\n",
      "2323       88184\n",
      "          ...   \n",
      "21292          1\n",
      "9596           1\n",
      "29483          1\n",
      "41932          1\n",
      "5223           1\n",
      "Name: id.resp_p, Length: 65434, dtype: int64\n",
      "proto tcp     7105792\n",
      "udp      426467\n",
      "icmp      21288\n",
      "Name: proto, dtype: int64\n",
      "duration 2.998791      4500\n",
      "2.998792      4345\n",
      "2.998790      4169\n",
      "2.998793      3837\n",
      "2.998789      3492\n",
      "              ... \n",
      "0.403026         1\n",
      "217.999641       1\n",
      "3.296069         1\n",
      "25.043170        1\n",
      "0.335830         1\n",
      "Name: duration, Length: 51110, dtype: int64\n",
      "orig_bytes 0       277192\n",
      "48        9438\n",
      "589       5841\n",
      "318       4685\n",
      "18        3318\n",
      "         ...  \n",
      "4004         1\n",
      "310          1\n",
      "1116         1\n",
      "438          1\n",
      "1213         1\n",
      "Name: orig_bytes, Length: 524, dtype: int64\n",
      "resp_bytes 0       291127\n",
      "48        9410\n",
      "1801      1449\n",
      "144        766\n",
      "2603       609\n",
      "         ...  \n",
      "322          1\n",
      "1676         1\n",
      "451          1\n",
      "506          1\n",
      "794          1\n",
      "Name: resp_bytes, Length: 770, dtype: int64\n",
      "missed_bytes 0       7553544\n",
      "8160          1\n",
      "8088          1\n",
      "1440          1\n",
      "Name: missed_bytes, dtype: int64\n",
      "orig_pkts 1       7258056\n",
      "3        272209\n",
      "2          4144\n",
      "5          2640\n",
      "4          2521\n",
      "         ...   \n",
      "58            1\n",
      "57            1\n",
      "52            1\n",
      "51            1\n",
      "3031          1\n",
      "Name: orig_pkts, Length: 65, dtype: int64\n",
      "orig_ip_bytes 40      6759083\n",
      "60       463968\n",
      "180      265511\n",
      "76        11459\n",
      "68         9834\n",
      "         ...   \n",
      "811           1\n",
      "810           1\n",
      "809           1\n",
      "805           1\n",
      "4078          1\n",
      "Name: orig_ip_bytes, Length: 1546, dtype: int64\n",
      "resp_pkts 0       7516193\n",
      "1         21588\n",
      "16         2116\n",
      "15         1792\n",
      "5          1595\n",
      "         ...   \n",
      "1454          1\n",
      "72            1\n",
      "69            1\n",
      "45            1\n",
      "5975          1\n",
      "Name: resp_pkts, Length: 76, dtype: int64\n",
      "resp_ip_bytes 0       7516193\n",
      "40        10446\n",
      "76         9410\n",
      "216         956\n",
      "2589        649\n",
      "         ...   \n",
      "978           1\n",
      "976           1\n",
      "975           1\n",
      "974           1\n",
      "844           1\n",
      "Name: resp_ip_bytes, Length: 1678, dtype: int64\n",
      "label Malicious    7055007\n",
      "Benign        498540\n",
      "Name: label, dtype: int64\n",
      "detailed-label PartOfAHorizontalPortScan    7040807\n",
      "Benign                        498540\n",
      "C&C                             8238\n",
      "Attack                          5962\n",
      "Name: detailed-label, dtype: int64\n"
     ]
    }
   ],
   "source": [
    "for column in data1.columns:\n",
    "    print(column, data1[column].value_counts())"
   ]
  },
  {
   "cell_type": "code",
   "execution_count": 26,
   "metadata": {},
   "outputs": [
    {
     "data": {
      "text/html": [
       "<div>\n",
       "<style scoped>\n",
       "    .dataframe tbody tr th:only-of-type {\n",
       "        vertical-align: middle;\n",
       "    }\n",
       "\n",
       "    .dataframe tbody tr th {\n",
       "        vertical-align: top;\n",
       "    }\n",
       "\n",
       "    .dataframe thead th {\n",
       "        text-align: right;\n",
       "    }\n",
       "</style>\n",
       "<table border=\"1\" class=\"dataframe\">\n",
       "  <thead>\n",
       "    <tr style=\"text-align: right;\">\n",
       "      <th></th>\n",
       "      <th>ts</th>\n",
       "      <th>id.orig_h</th>\n",
       "      <th>id.orig_p</th>\n",
       "      <th>id.resp_h</th>\n",
       "      <th>id.resp_p</th>\n",
       "      <th>proto</th>\n",
       "      <th>duration</th>\n",
       "      <th>orig_bytes</th>\n",
       "      <th>resp_bytes</th>\n",
       "      <th>missed_bytes</th>\n",
       "      <th>orig_pkts</th>\n",
       "      <th>orig_ip_bytes</th>\n",
       "      <th>resp_pkts</th>\n",
       "      <th>resp_ip_bytes</th>\n",
       "      <th>label</th>\n",
       "      <th>detailed-label</th>\n",
       "    </tr>\n",
       "  </thead>\n",
       "  <tbody>\n",
       "    <tr>\n",
       "      <th>0</th>\n",
       "      <td>1.525880e+09</td>\n",
       "      <td>192.168.100.103</td>\n",
       "      <td>51524</td>\n",
       "      <td>65.127.233.163</td>\n",
       "      <td>23</td>\n",
       "      <td>tcp</td>\n",
       "      <td>2.999051</td>\n",
       "      <td>0</td>\n",
       "      <td>0</td>\n",
       "      <td>0</td>\n",
       "      <td>3</td>\n",
       "      <td>180</td>\n",
       "      <td>0</td>\n",
       "      <td>0</td>\n",
       "      <td>Malicious</td>\n",
       "      <td>PartOfAHorizontalPortScan</td>\n",
       "    </tr>\n",
       "    <tr>\n",
       "      <th>1</th>\n",
       "      <td>1.525880e+09</td>\n",
       "      <td>192.168.100.103</td>\n",
       "      <td>56305</td>\n",
       "      <td>63.150.16.171</td>\n",
       "      <td>23</td>\n",
       "      <td>tcp</td>\n",
       "      <td>&lt;NA&gt;</td>\n",
       "      <td>&lt;NA&gt;</td>\n",
       "      <td>&lt;NA&gt;</td>\n",
       "      <td>0</td>\n",
       "      <td>1</td>\n",
       "      <td>60</td>\n",
       "      <td>0</td>\n",
       "      <td>0</td>\n",
       "      <td>Malicious</td>\n",
       "      <td>PartOfAHorizontalPortScan</td>\n",
       "    </tr>\n",
       "    <tr>\n",
       "      <th>2</th>\n",
       "      <td>1.525880e+09</td>\n",
       "      <td>192.168.100.103</td>\n",
       "      <td>41101</td>\n",
       "      <td>111.40.23.49</td>\n",
       "      <td>23</td>\n",
       "      <td>tcp</td>\n",
       "      <td>&lt;NA&gt;</td>\n",
       "      <td>&lt;NA&gt;</td>\n",
       "      <td>&lt;NA&gt;</td>\n",
       "      <td>0</td>\n",
       "      <td>1</td>\n",
       "      <td>60</td>\n",
       "      <td>0</td>\n",
       "      <td>0</td>\n",
       "      <td>Malicious</td>\n",
       "      <td>PartOfAHorizontalPortScan</td>\n",
       "    </tr>\n",
       "    <tr>\n",
       "      <th>3</th>\n",
       "      <td>1.525880e+09</td>\n",
       "      <td>192.168.100.103</td>\n",
       "      <td>60905</td>\n",
       "      <td>131.174.215.147</td>\n",
       "      <td>23</td>\n",
       "      <td>tcp</td>\n",
       "      <td>2.998796</td>\n",
       "      <td>0</td>\n",
       "      <td>0</td>\n",
       "      <td>0</td>\n",
       "      <td>3</td>\n",
       "      <td>180</td>\n",
       "      <td>0</td>\n",
       "      <td>0</td>\n",
       "      <td>Malicious</td>\n",
       "      <td>PartOfAHorizontalPortScan</td>\n",
       "    </tr>\n",
       "    <tr>\n",
       "      <th>4</th>\n",
       "      <td>1.525880e+09</td>\n",
       "      <td>192.168.100.103</td>\n",
       "      <td>44301</td>\n",
       "      <td>91.42.47.63</td>\n",
       "      <td>23</td>\n",
       "      <td>tcp</td>\n",
       "      <td>&lt;NA&gt;</td>\n",
       "      <td>&lt;NA&gt;</td>\n",
       "      <td>&lt;NA&gt;</td>\n",
       "      <td>0</td>\n",
       "      <td>1</td>\n",
       "      <td>60</td>\n",
       "      <td>0</td>\n",
       "      <td>0</td>\n",
       "      <td>Malicious</td>\n",
       "      <td>PartOfAHorizontalPortScan</td>\n",
       "    </tr>\n",
       "    <tr>\n",
       "      <th>...</th>\n",
       "      <td>...</td>\n",
       "      <td>...</td>\n",
       "      <td>...</td>\n",
       "      <td>...</td>\n",
       "      <td>...</td>\n",
       "      <td>...</td>\n",
       "      <td>...</td>\n",
       "      <td>...</td>\n",
       "      <td>...</td>\n",
       "      <td>...</td>\n",
       "      <td>...</td>\n",
       "      <td>...</td>\n",
       "      <td>...</td>\n",
       "      <td>...</td>\n",
       "      <td>...</td>\n",
       "      <td>...</td>\n",
       "    </tr>\n",
       "    <tr>\n",
       "      <th>7553542</th>\n",
       "      <td>1.532595e+09</td>\n",
       "      <td>192.168.100.111</td>\n",
       "      <td>28057</td>\n",
       "      <td>173.94.58.125</td>\n",
       "      <td>23</td>\n",
       "      <td>tcp</td>\n",
       "      <td>&lt;NA&gt;</td>\n",
       "      <td>&lt;NA&gt;</td>\n",
       "      <td>&lt;NA&gt;</td>\n",
       "      <td>0</td>\n",
       "      <td>1</td>\n",
       "      <td>40</td>\n",
       "      <td>0</td>\n",
       "      <td>0</td>\n",
       "      <td>Malicious</td>\n",
       "      <td>PartOfAHorizontalPortScan</td>\n",
       "    </tr>\n",
       "    <tr>\n",
       "      <th>7553543</th>\n",
       "      <td>1.532595e+09</td>\n",
       "      <td>192.168.100.111</td>\n",
       "      <td>52876</td>\n",
       "      <td>69.196.96.231</td>\n",
       "      <td>23</td>\n",
       "      <td>tcp</td>\n",
       "      <td>209.874367</td>\n",
       "      <td>0</td>\n",
       "      <td>0</td>\n",
       "      <td>0</td>\n",
       "      <td>8</td>\n",
       "      <td>360</td>\n",
       "      <td>1</td>\n",
       "      <td>44</td>\n",
       "      <td>Benign</td>\n",
       "      <td>Benign</td>\n",
       "    </tr>\n",
       "    <tr>\n",
       "      <th>7553544</th>\n",
       "      <td>1.532592e+09</td>\n",
       "      <td>192.168.100.111</td>\n",
       "      <td>39234</td>\n",
       "      <td>192.121.45.63</td>\n",
       "      <td>23</td>\n",
       "      <td>tcp</td>\n",
       "      <td>165.760290</td>\n",
       "      <td>0</td>\n",
       "      <td>0</td>\n",
       "      <td>0</td>\n",
       "      <td>5</td>\n",
       "      <td>220</td>\n",
       "      <td>1</td>\n",
       "      <td>44</td>\n",
       "      <td>Benign</td>\n",
       "      <td>Benign</td>\n",
       "    </tr>\n",
       "    <tr>\n",
       "      <th>7553545</th>\n",
       "      <td>1.532595e+09</td>\n",
       "      <td>168.102.14.4</td>\n",
       "      <td>11</td>\n",
       "      <td>192.168.100.111</td>\n",
       "      <td>0</td>\n",
       "      <td>icmp</td>\n",
       "      <td>&lt;NA&gt;</td>\n",
       "      <td>&lt;NA&gt;</td>\n",
       "      <td>&lt;NA&gt;</td>\n",
       "      <td>0</td>\n",
       "      <td>1</td>\n",
       "      <td>68</td>\n",
       "      <td>0</td>\n",
       "      <td>0</td>\n",
       "      <td>Benign</td>\n",
       "      <td>Benign</td>\n",
       "    </tr>\n",
       "    <tr>\n",
       "      <th>7553546</th>\n",
       "      <td>1.532595e+09</td>\n",
       "      <td>192.94.118.248</td>\n",
       "      <td>11</td>\n",
       "      <td>192.168.100.111</td>\n",
       "      <td>0</td>\n",
       "      <td>icmp</td>\n",
       "      <td>&lt;NA&gt;</td>\n",
       "      <td>&lt;NA&gt;</td>\n",
       "      <td>&lt;NA&gt;</td>\n",
       "      <td>0</td>\n",
       "      <td>1</td>\n",
       "      <td>56</td>\n",
       "      <td>0</td>\n",
       "      <td>0</td>\n",
       "      <td>Benign</td>\n",
       "      <td>Benign</td>\n",
       "    </tr>\n",
       "  </tbody>\n",
       "</table>\n",
       "<p>7553547 rows × 16 columns</p>\n",
       "</div>"
      ],
      "text/plain": [
       "                   ts        id.orig_h  id.orig_p        id.resp_h  id.resp_p  \\\n",
       "0        1.525880e+09  192.168.100.103      51524   65.127.233.163         23   \n",
       "1        1.525880e+09  192.168.100.103      56305    63.150.16.171         23   \n",
       "2        1.525880e+09  192.168.100.103      41101     111.40.23.49         23   \n",
       "3        1.525880e+09  192.168.100.103      60905  131.174.215.147         23   \n",
       "4        1.525880e+09  192.168.100.103      44301      91.42.47.63         23   \n",
       "...               ...              ...        ...              ...        ...   \n",
       "7553542  1.532595e+09  192.168.100.111      28057    173.94.58.125         23   \n",
       "7553543  1.532595e+09  192.168.100.111      52876    69.196.96.231         23   \n",
       "7553544  1.532592e+09  192.168.100.111      39234    192.121.45.63         23   \n",
       "7553545  1.532595e+09     168.102.14.4         11  192.168.100.111          0   \n",
       "7553546  1.532595e+09   192.94.118.248         11  192.168.100.111          0   \n",
       "\n",
       "        proto    duration orig_bytes resp_bytes  missed_bytes  orig_pkts  \\\n",
       "0         tcp    2.999051          0          0             0          3   \n",
       "1         tcp        <NA>       <NA>       <NA>             0          1   \n",
       "2         tcp        <NA>       <NA>       <NA>             0          1   \n",
       "3         tcp    2.998796          0          0             0          3   \n",
       "4         tcp        <NA>       <NA>       <NA>             0          1   \n",
       "...       ...         ...        ...        ...           ...        ...   \n",
       "7553542   tcp        <NA>       <NA>       <NA>             0          1   \n",
       "7553543   tcp  209.874367          0          0             0          8   \n",
       "7553544   tcp  165.760290          0          0             0          5   \n",
       "7553545  icmp        <NA>       <NA>       <NA>             0          1   \n",
       "7553546  icmp        <NA>       <NA>       <NA>             0          1   \n",
       "\n",
       "         orig_ip_bytes  resp_pkts  resp_ip_bytes      label  \\\n",
       "0                  180          0              0  Malicious   \n",
       "1                   60          0              0  Malicious   \n",
       "2                   60          0              0  Malicious   \n",
       "3                  180          0              0  Malicious   \n",
       "4                   60          0              0  Malicious   \n",
       "...                ...        ...            ...        ...   \n",
       "7553542             40          0              0  Malicious   \n",
       "7553543            360          1             44     Benign   \n",
       "7553544            220          1             44     Benign   \n",
       "7553545             68          0              0     Benign   \n",
       "7553546             56          0              0     Benign   \n",
       "\n",
       "                    detailed-label  \n",
       "0        PartOfAHorizontalPortScan  \n",
       "1        PartOfAHorizontalPortScan  \n",
       "2        PartOfAHorizontalPortScan  \n",
       "3        PartOfAHorizontalPortScan  \n",
       "4        PartOfAHorizontalPortScan  \n",
       "...                            ...  \n",
       "7553542  PartOfAHorizontalPortScan  \n",
       "7553543                     Benign  \n",
       "7553544                     Benign  \n",
       "7553545                     Benign  \n",
       "7553546                     Benign  \n",
       "\n",
       "[7553547 rows x 16 columns]"
      ]
     },
     "execution_count": 26,
     "metadata": {},
     "output_type": "execute_result"
    }
   ],
   "source": [
    "data1"
   ]
  },
  {
   "cell_type": "code",
   "execution_count": 27,
   "metadata": {},
   "outputs": [],
   "source": [
    "int_cols = ['id.orig_p','id.resp_p', 'orig_bytes', 'resp_bytes', 'missed_bytes','orig_pkts'\n",
    "            ,'orig_ip_bytes','resp_pkts', 'resp_ip_bytes']"
   ]
  },
  {
   "cell_type": "code",
   "execution_count": 28,
   "metadata": {},
   "outputs": [],
   "source": [
    "float_cols = ['ts','duration']"
   ]
  },
  {
   "cell_type": "code",
   "execution_count": 29,
   "metadata": {},
   "outputs": [],
   "source": [
    "data1[['duration', 'orig_bytes', 'resp_bytes']] = data1[['duration', 'orig_bytes', 'resp_bytes']].fillna(value=0)"
   ]
  },
  {
   "cell_type": "code",
   "execution_count": 30,
   "metadata": {},
   "outputs": [],
   "source": [
    "for col in int_cols:\n",
    "    data1[col] = data1[col].astype(np.int32)"
   ]
  },
  {
   "cell_type": "code",
   "execution_count": 31,
   "metadata": {},
   "outputs": [],
   "source": [
    "for col in float_cols:\n",
    "    data1[col] = data1[col].astype(np.float32)"
   ]
  },
  {
   "cell_type": "code",
   "execution_count": 32,
   "metadata": {},
   "outputs": [],
   "source": [
    "# data1 = data1.drop(columns='label')"
   ]
  },
  {
   "cell_type": "code",
   "execution_count": 33,
   "metadata": {},
   "outputs": [
    {
     "data": {
      "text/plain": [
       "PartOfAHorizontalPortScan    7040807\n",
       "Benign                        498540\n",
       "C&C                             8238\n",
       "Attack                          5962\n",
       "Name: detailed-label, dtype: int64"
      ]
     },
     "execution_count": 33,
     "metadata": {},
     "output_type": "execute_result"
    }
   ],
   "source": [
    "data1['detailed-label'].value_counts()"
   ]
  },
  {
   "cell_type": "code",
   "execution_count": 34,
   "metadata": {},
   "outputs": [],
   "source": [
    "y_label = data1['label']"
   ]
  },
  {
   "cell_type": "code",
   "execution_count": 35,
   "metadata": {},
   "outputs": [],
   "source": [
    "y_label = LabelEncoder().fit_transform(y_label)"
   ]
  },
  {
   "cell_type": "code",
   "execution_count": 36,
   "metadata": {},
   "outputs": [],
   "source": [
    "#y_label = oneHotencode(data1,'detailed-label')"
   ]
  },
  {
   "cell_type": "code",
   "execution_count": 37,
   "metadata": {},
   "outputs": [],
   "source": [
    "#y_label = y_label[['detailed-label0','detailed-label1','detailed-label2','detailed-label3']]"
   ]
  },
  {
   "cell_type": "code",
   "execution_count": 38,
   "metadata": {},
   "outputs": [
    {
     "data": {
      "text/plain": [
       "array([1, 1, 1, ..., 0, 0, 0])"
      ]
     },
     "execution_count": 38,
     "metadata": {},
     "output_type": "execute_result"
    }
   ],
   "source": [
    "y_label"
   ]
  },
  {
   "cell_type": "code",
   "execution_count": 39,
   "metadata": {},
   "outputs": [
    {
     "data": {
      "text/plain": [
       "ts                0\n",
       "id.orig_h         0\n",
       "id.orig_p         0\n",
       "id.resp_h         0\n",
       "id.resp_p         0\n",
       "proto             0\n",
       "duration          0\n",
       "orig_bytes        0\n",
       "resp_bytes        0\n",
       "missed_bytes      0\n",
       "orig_pkts         0\n",
       "orig_ip_bytes     0\n",
       "resp_pkts         0\n",
       "resp_ip_bytes     0\n",
       "label             0\n",
       "detailed-label    0\n",
       "dtype: int64"
      ]
     },
     "execution_count": 39,
     "metadata": {},
     "output_type": "execute_result"
    }
   ],
   "source": [
    "data1.isna().sum()"
   ]
  },
  {
   "cell_type": "code",
   "execution_count": 40,
   "metadata": {},
   "outputs": [
    {
     "data": {
      "text/plain": [
       "0          Malicious\n",
       "1          Malicious\n",
       "2          Malicious\n",
       "3          Malicious\n",
       "4          Malicious\n",
       "             ...    \n",
       "7553542    Malicious\n",
       "7553543       Benign\n",
       "7553544       Benign\n",
       "7553545       Benign\n",
       "7553546       Benign\n",
       "Name: label, Length: 7553547, dtype: object"
      ]
     },
     "execution_count": 40,
     "metadata": {},
     "output_type": "execute_result"
    }
   ],
   "source": [
    "data1.pop('label')"
   ]
  },
  {
   "cell_type": "code",
   "execution_count": 41,
   "metadata": {},
   "outputs": [
    {
     "data": {
      "text/plain": [
       "0          PartOfAHorizontalPortScan\n",
       "1          PartOfAHorizontalPortScan\n",
       "2          PartOfAHorizontalPortScan\n",
       "3          PartOfAHorizontalPortScan\n",
       "4          PartOfAHorizontalPortScan\n",
       "                     ...            \n",
       "7553542    PartOfAHorizontalPortScan\n",
       "7553543                       Benign\n",
       "7553544                       Benign\n",
       "7553545                       Benign\n",
       "7553546                       Benign\n",
       "Name: detailed-label, Length: 7553547, dtype: object"
      ]
     },
     "execution_count": 41,
     "metadata": {},
     "output_type": "execute_result"
    }
   ],
   "source": [
    "data1.pop('detailed-label')"
   ]
  },
  {
   "cell_type": "code",
   "execution_count": 42,
   "metadata": {},
   "outputs": [
    {
     "data": {
      "text/plain": [
       "ts               float32\n",
       "id.orig_h         object\n",
       "id.orig_p          int32\n",
       "id.resp_h         object\n",
       "id.resp_p          int32\n",
       "proto             object\n",
       "duration         float32\n",
       "orig_bytes         int32\n",
       "resp_bytes         int32\n",
       "missed_bytes       int32\n",
       "orig_pkts          int32\n",
       "orig_ip_bytes      int32\n",
       "resp_pkts          int32\n",
       "resp_ip_bytes      int32\n",
       "dtype: object"
      ]
     },
     "execution_count": 42,
     "metadata": {},
     "output_type": "execute_result"
    }
   ],
   "source": [
    "data1.dtypes"
   ]
  },
  {
   "cell_type": "code",
   "execution_count": 43,
   "metadata": {},
   "outputs": [],
   "source": [
    "label_enc_col = ['id.orig_h', 'id.resp_h', 'proto']#, 'label']"
   ]
  },
  {
   "cell_type": "code",
   "execution_count": 44,
   "metadata": {},
   "outputs": [],
   "source": [
    "for col in label_enc_col:\n",
    "    data1[col] = LabelEncoder().fit_transform(data1[col])"
   ]
  },
  {
   "cell_type": "code",
   "execution_count": 45,
   "metadata": {},
   "outputs": [],
   "source": [
    "#data1['duration'] = data1['duration'].astype(np.float32)"
   ]
  },
  {
   "cell_type": "code",
   "execution_count": 46,
   "metadata": {},
   "outputs": [],
   "source": [
    "#data1['orig_bytes'] = data1['orig_bytes'].astype(np.int32)"
   ]
  },
  {
   "cell_type": "code",
   "execution_count": 47,
   "metadata": {},
   "outputs": [],
   "source": [
    "#data1['resp_bytes'] = data1['resp_bytes'].astype(np.int32)"
   ]
  },
  {
   "cell_type": "code",
   "execution_count": 48,
   "metadata": {},
   "outputs": [
    {
     "data": {
      "text/plain": [
       "0          1.525880e+09\n",
       "1          1.525880e+09\n",
       "2          1.525880e+09\n",
       "3          1.525880e+09\n",
       "4          1.525880e+09\n",
       "               ...     \n",
       "7553542    1.532595e+09\n",
       "7553543    1.532595e+09\n",
       "7553544    1.532592e+09\n",
       "7553545    1.532595e+09\n",
       "7553546    1.532595e+09\n",
       "Name: ts, Length: 7553547, dtype: float32"
      ]
     },
     "execution_count": 48,
     "metadata": {},
     "output_type": "execute_result"
    }
   ],
   "source": [
    "data1.pop('ts')"
   ]
  },
  {
   "cell_type": "code",
   "execution_count": 49,
   "metadata": {},
   "outputs": [],
   "source": [
    "xlabels = np.array(data1.copy())"
   ]
  },
  {
   "cell_type": "code",
   "execution_count": 50,
   "metadata": {},
   "outputs": [
    {
     "data": {
      "text/plain": [
       "array([[7.608000e+03, 5.152400e+04, 4.846935e+06, ..., 1.800000e+02,\n",
       "        0.000000e+00, 0.000000e+00],\n",
       "       [7.608000e+03, 5.630500e+04, 4.794545e+06, ..., 6.000000e+01,\n",
       "        0.000000e+00, 0.000000e+00],\n",
       "       [7.608000e+03, 4.110100e+04, 3.533250e+05, ..., 6.000000e+01,\n",
       "        0.000000e+00, 0.000000e+00],\n",
       "       ...,\n",
       "       [7.609000e+03, 3.923400e+04, 2.830477e+06, ..., 2.200000e+02,\n",
       "        1.000000e+00, 4.400000e+01],\n",
       "       [4.725000e+03, 1.100000e+01, 2.835989e+06, ..., 6.800000e+01,\n",
       "        0.000000e+00, 0.000000e+00],\n",
       "       [7.662000e+03, 1.100000e+01, 2.835989e+06, ..., 5.600000e+01,\n",
       "        0.000000e+00, 0.000000e+00]])"
      ]
     },
     "execution_count": 50,
     "metadata": {},
     "output_type": "execute_result"
    }
   ],
   "source": [
    "xlabels"
   ]
  },
  {
   "cell_type": "code",
   "execution_count": 51,
   "metadata": {},
   "outputs": [],
   "source": [
    "y_label = np.array(y_label)"
   ]
  },
  {
   "cell_type": "code",
   "execution_count": 52,
   "metadata": {},
   "outputs": [],
   "source": [
    "y_label = y_label.reshape((y_label.shape[0],1))"
   ]
  },
  {
   "cell_type": "code",
   "execution_count": 53,
   "metadata": {},
   "outputs": [
    {
     "data": {
      "text/plain": [
       "((7553547, 13), (7553547, 1))"
      ]
     },
     "execution_count": 53,
     "metadata": {},
     "output_type": "execute_result"
    }
   ],
   "source": [
    "xlabels.shape,y_label.shape"
   ]
  },
  {
   "cell_type": "code",
   "execution_count": 54,
   "metadata": {},
   "outputs": [],
   "source": [
    "y_label=y_label.astype(np.float32)"
   ]
  },
  {
   "cell_type": "code",
   "execution_count": 55,
   "metadata": {},
   "outputs": [],
   "source": [
    "xtrain,xtest,ytrain,ytest = train_test_split(xlabels,y_label, test_size=0.2)"
   ]
  },
  {
   "cell_type": "code",
   "execution_count": 56,
   "metadata": {},
   "outputs": [],
   "source": [
    "del(data)"
   ]
  },
  {
   "cell_type": "code",
   "execution_count": 57,
   "metadata": {},
   "outputs": [],
   "source": [
    "model = tf.keras.Sequential([tf.keras.layers.Dense(13),\n",
    "                             tf.keras.layers.Dense(13,activation='relu'),\n",
    "                             tf.keras.layers.Dense(64,activation='relu'),\n",
    "                             tf.keras.layers.Dense(2,activation=tf.keras.activations.softmax)])"
   ]
  },
  {
   "cell_type": "code",
   "execution_count": 58,
   "metadata": {},
   "outputs": [],
   "source": [
    "model.compile(optimizer=tf.keras.optimizers.Adam(learning_rate=0.0005),\n",
    "              loss=tf.keras.losses.SparseCategoricalCrossentropy(from_logits=True),\n",
    "              metrics=[tf.keras.metrics.sparse_categorical_accuracy])"
   ]
  },
  {
   "cell_type": "code",
   "execution_count": 59,
   "metadata": {},
   "outputs": [
    {
     "name": "stdout",
     "output_type": "stream",
     "text": [
      "Train on 7553547 samples\n",
      "Epoch 1/5\n",
      "7553547/7553547 [==============================] - 7s 1us/sample - loss: 0.3793 - sparse_categorical_accuracy: 0.9340\n",
      "Epoch 2/5\n",
      "7553547/7553547 [==============================] - 3s 0us/sample - loss: 0.3793 - sparse_categorical_accuracy: 0.9340\n",
      "Epoch 3/5\n",
      "7553547/7553547 [==============================] - 3s 0us/sample - loss: 0.3793 - sparse_categorical_accuracy: 0.9340\n",
      "Epoch 4/5\n",
      "7553547/7553547 [==============================] - 3s 0us/sample - loss: 0.3793 - sparse_categorical_accuracy: 0.9340\n",
      "Epoch 5/5\n",
      "7553547/7553547 [==============================] - 3s 0us/sample - loss: 0.3793 - sparse_categorical_accuracy: 0.9340\n"
     ]
    },
    {
     "data": {
      "text/plain": [
       "<tensorflow.python.keras.callbacks.History at 0x2a0db994948>"
      ]
     },
     "execution_count": 59,
     "metadata": {},
     "output_type": "execute_result"
    }
   ],
   "source": [
    "model.fit(xlabels,y_label,batch_size=8192,epochs=5)"
   ]
  },
  {
   "cell_type": "code",
   "execution_count": 60,
   "metadata": {},
   "outputs": [
    {
     "name": "stdout",
     "output_type": "stream",
     "text": [
      "1510710/1510710 [==============================] - 1s 0us/sample - loss: 0.3791 - sparse_categorical_accuracy: 0.9342\n"
     ]
    },
    {
     "data": {
      "text/plain": [
       "[0.37906512464301934, 0.93419653]"
      ]
     },
     "execution_count": 60,
     "metadata": {},
     "output_type": "execute_result"
    }
   ],
   "source": [
    "model.evaluate(xtest,ytest,batch_size=8192)"
   ]
  },
  {
   "cell_type": "code",
   "execution_count": 61,
   "metadata": {},
   "outputs": [
    {
     "data": {
      "text/plain": [
       "(13,)"
      ]
     },
     "execution_count": 61,
     "metadata": {},
     "output_type": "execute_result"
    }
   ],
   "source": [
    "shape = xtest[100].shape\n",
    "shape"
   ]
  },
  {
   "cell_type": "code",
   "execution_count": 62,
   "metadata": {},
   "outputs": [],
   "source": [
    "single_flow = xtest[30].reshape((1,)+xtest.shape[1:])"
   ]
  },
  {
   "cell_type": "code",
   "execution_count": 63,
   "metadata": {},
   "outputs": [],
   "source": [
    "y = model.predict(xtest,batch_size=8192)"
   ]
  },
  {
   "cell_type": "code",
   "execution_count": 64,
   "metadata": {},
   "outputs": [],
   "source": [
    "y = np.around(y)"
   ]
  },
  {
   "cell_type": "code",
   "execution_count": 65,
   "metadata": {},
   "outputs": [
    {
     "data": {
      "text/plain": [
       "0"
      ]
     },
     "execution_count": 65,
     "metadata": {},
     "output_type": "execute_result"
    }
   ],
   "source": [
    "(ytest == 3).sum()"
   ]
  },
  {
   "cell_type": "code",
   "execution_count": 66,
   "metadata": {},
   "outputs": [
    {
     "data": {
      "text/plain": [
       "1510710.0"
      ]
     },
     "execution_count": 66,
     "metadata": {},
     "output_type": "execute_result"
    }
   ],
   "source": [
    "y[:,1].sum()"
   ]
  },
  {
   "cell_type": "code",
   "execution_count": null,
   "metadata": {},
   "outputs": [],
   "source": []
  }
 ],
 "metadata": {
  "kernelspec": {
   "display_name": "Python 3.7.5 64-bit",
   "language": "python",
   "name": "python37564bit8890ea41f24e48269f778039be71c52c"
  },
  "language_info": {
   "codemirror_mode": {
    "name": "ipython",
    "version": 3
   },
   "file_extension": ".py",
   "mimetype": "text/x-python",
   "name": "python",
   "nbconvert_exporter": "python",
   "pygments_lexer": "ipython3",
   "version": "3.7.5"
  }
 },
 "nbformat": 4,
 "nbformat_minor": 4
}
