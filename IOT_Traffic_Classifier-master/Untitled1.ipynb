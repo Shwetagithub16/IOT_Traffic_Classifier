{
 "cells": [
  {
   "cell_type": "code",
   "execution_count": 4,
   "metadata": {},
   "outputs": [],
   "source": [
    "from scapy.all import PcapReader\n",
    "import pandas as pd"
   ]
  },
  {
   "cell_type": "code",
   "execution_count": 31,
   "metadata": {},
   "outputs": [],
   "source": [
    "data_path = '../Data/'\n",
    "file_path = data_path + '18-10-27.pcap'\n",
    "devices_list_path = data_path + 'List_Of_Devices.csv'"
   ]
  },
  {
   "cell_type": "code",
   "execution_count": 32,
   "metadata": {},
   "outputs": [],
   "source": [
    "devices_list = pd.read_csv(devices_list_path, index_col='MAC ADDRESS')"
   ]
  },
  {
   "cell_type": "code",
   "execution_count": 33,
   "metadata": {},
   "outputs": [
    {
     "data": {
      "text/html": [
       "<div>\n",
       "<style scoped>\n",
       "    .dataframe tbody tr th:only-of-type {\n",
       "        vertical-align: middle;\n",
       "    }\n",
       "\n",
       "    .dataframe tbody tr th {\n",
       "        vertical-align: top;\n",
       "    }\n",
       "\n",
       "    .dataframe thead th {\n",
       "        text-align: right;\n",
       "    }\n",
       "</style>\n",
       "<table border=\"1\" class=\"dataframe\">\n",
       "  <thead>\n",
       "    <tr style=\"text-align: right;\">\n",
       "      <th></th>\n",
       "      <th>List of Devices</th>\n",
       "      <th>Connection Type</th>\n",
       "    </tr>\n",
       "    <tr>\n",
       "      <th>MAC ADDRESS</th>\n",
       "      <th></th>\n",
       "      <th></th>\n",
       "    </tr>\n",
       "  </thead>\n",
       "  <tbody>\n",
       "    <tr>\n",
       "      <th>d0:52:a8:00:67:5e</th>\n",
       "      <td>Smart Things</td>\n",
       "      <td>Wired</td>\n",
       "    </tr>\n",
       "    <tr>\n",
       "      <th>44:65:0d:56:cc:d3</th>\n",
       "      <td>Amazon Echo</td>\n",
       "      <td>Wireless</td>\n",
       "    </tr>\n",
       "    <tr>\n",
       "      <th>70:ee:50:18:34:43</th>\n",
       "      <td>Netatmo Welcome</td>\n",
       "      <td>Wireless</td>\n",
       "    </tr>\n",
       "    <tr>\n",
       "      <th>f4:f2:6d:93:51:f1</th>\n",
       "      <td>TP-Link Day Night Cloud camera</td>\n",
       "      <td>Wireless</td>\n",
       "    </tr>\n",
       "    <tr>\n",
       "      <th>00:16:6c:ab:6b:88</th>\n",
       "      <td>Samsung SmartCam</td>\n",
       "      <td>Wireless</td>\n",
       "    </tr>\n",
       "    <tr>\n",
       "      <th>30:8c:fb:2f:e4:b2</th>\n",
       "      <td>Dropcam</td>\n",
       "      <td>Wireless</td>\n",
       "    </tr>\n",
       "    <tr>\n",
       "      <th>00:62:6e:51:27:2e</th>\n",
       "      <td>Insteon Camera1</td>\n",
       "      <td>Wired</td>\n",
       "    </tr>\n",
       "    <tr>\n",
       "      <th>e8:ab:fa:19:de:4f</th>\n",
       "      <td>Insteon Camera2</td>\n",
       "      <td>Wireless</td>\n",
       "    </tr>\n",
       "    <tr>\n",
       "      <th>00:24:e4:11:18:a8</th>\n",
       "      <td>Withings Smart Baby Monitor</td>\n",
       "      <td>Wired</td>\n",
       "    </tr>\n",
       "    <tr>\n",
       "      <th>ec:1a:59:79:f4:89</th>\n",
       "      <td>Belkin Wemo switch</td>\n",
       "      <td>Wireless</td>\n",
       "    </tr>\n",
       "    <tr>\n",
       "      <th>50:c7:bf:00:56:39</th>\n",
       "      <td>TP-Link Smart plug</td>\n",
       "      <td>Wireless</td>\n",
       "    </tr>\n",
       "    <tr>\n",
       "      <th>74:c6:3b:29:d7:1d</th>\n",
       "      <td>iHome</td>\n",
       "      <td>Wireless</td>\n",
       "    </tr>\n",
       "    <tr>\n",
       "      <th>ec:1a:59:83:28:11</th>\n",
       "      <td>Belkin wemo motion sensor</td>\n",
       "      <td>Wireless</td>\n",
       "    </tr>\n",
       "    <tr>\n",
       "      <th>18:b4:30:25:be:e4</th>\n",
       "      <td>NEST Protect smoke alarm</td>\n",
       "      <td>Wireless</td>\n",
       "    </tr>\n",
       "    <tr>\n",
       "      <th>70:ee:50:03:b8:ac</th>\n",
       "      <td>Netatmo weather station</td>\n",
       "      <td>Wireless</td>\n",
       "    </tr>\n",
       "    <tr>\n",
       "      <th>00:24:e4:1b:6f:96</th>\n",
       "      <td>Withings Smart scale</td>\n",
       "      <td>Wireless</td>\n",
       "    </tr>\n",
       "    <tr>\n",
       "      <th>74:6a:89:00:2e:25</th>\n",
       "      <td>Blipcare Blood Pressure meter</td>\n",
       "      <td>Wireless</td>\n",
       "    </tr>\n",
       "    <tr>\n",
       "      <th>00:24:e4:20:28:c6</th>\n",
       "      <td>Withings Aura smart sleep sensor</td>\n",
       "      <td>Wireless</td>\n",
       "    </tr>\n",
       "    <tr>\n",
       "      <th>d0:73:d5:01:83:08</th>\n",
       "      <td>Light Bulbs LiFX Smart Bulb</td>\n",
       "      <td>Wireless</td>\n",
       "    </tr>\n",
       "    <tr>\n",
       "      <th>18:b7:9e:02:20:44</th>\n",
       "      <td>Triby Speaker</td>\n",
       "      <td>Wireless</td>\n",
       "    </tr>\n",
       "    <tr>\n",
       "      <th>e0:76:d0:33:bb:85</th>\n",
       "      <td>PIX-STAR Photo-frame</td>\n",
       "      <td>Wireless</td>\n",
       "    </tr>\n",
       "    <tr>\n",
       "      <th>70:5a:0f:e4:9b:c0</th>\n",
       "      <td>HP Printer</td>\n",
       "      <td>Wireless</td>\n",
       "    </tr>\n",
       "    <tr>\n",
       "      <th>08:21:ef:3b:fc:e3</th>\n",
       "      <td>Samsung Galaxy Tab</td>\n",
       "      <td>Wireless</td>\n",
       "    </tr>\n",
       "    <tr>\n",
       "      <th>30:8c:fb:b6:ea:45</th>\n",
       "      <td>Nest Dropcam</td>\n",
       "      <td>Wireless</td>\n",
       "    </tr>\n",
       "    <tr>\n",
       "      <th>40:f3:08:ff:1e:da</th>\n",
       "      <td>Android Phone</td>\n",
       "      <td>Wireless</td>\n",
       "    </tr>\n",
       "    <tr>\n",
       "      <th>74:2f:68:81:69:42</th>\n",
       "      <td>Laptop</td>\n",
       "      <td>Wireless</td>\n",
       "    </tr>\n",
       "    <tr>\n",
       "      <th>ac:bc:32:d4:6f:2f</th>\n",
       "      <td>MacBook</td>\n",
       "      <td>Wireless</td>\n",
       "    </tr>\n",
       "    <tr>\n",
       "      <th>b4:ce:f6:a7:a3:c2</th>\n",
       "      <td>Android Phone</td>\n",
       "      <td>Wireless</td>\n",
       "    </tr>\n",
       "    <tr>\n",
       "      <th>d0:a6:37:df:a1:e1</th>\n",
       "      <td>IPhone</td>\n",
       "      <td>Wireless</td>\n",
       "    </tr>\n",
       "    <tr>\n",
       "      <th>f4:5c:89:93:cc:85</th>\n",
       "      <td>MacBook/Iphone</td>\n",
       "      <td>Wireless</td>\n",
       "    </tr>\n",
       "    <tr>\n",
       "      <th>14:cc:20:51:33:ea</th>\n",
       "      <td>TPLink Router Bridge LAN</td>\n",
       "      <td>Gateway</td>\n",
       "    </tr>\n",
       "  </tbody>\n",
       "</table>\n",
       "</div>"
      ],
      "text/plain": [
       "                                    List of Devices Connection Type\n",
       "MAC ADDRESS                                                        \n",
       "d0:52:a8:00:67:5e                      Smart Things           Wired\n",
       "44:65:0d:56:cc:d3                       Amazon Echo        Wireless\n",
       "70:ee:50:18:34:43                   Netatmo Welcome        Wireless\n",
       "f4:f2:6d:93:51:f1    TP-Link Day Night Cloud camera        Wireless\n",
       "00:16:6c:ab:6b:88                  Samsung SmartCam        Wireless\n",
       "30:8c:fb:2f:e4:b2                           Dropcam        Wireless\n",
       "00:62:6e:51:27:2e                   Insteon Camera1           Wired\n",
       "e8:ab:fa:19:de:4f                   Insteon Camera2        Wireless\n",
       "00:24:e4:11:18:a8       Withings Smart Baby Monitor           Wired\n",
       "ec:1a:59:79:f4:89                Belkin Wemo switch        Wireless\n",
       "50:c7:bf:00:56:39                TP-Link Smart plug        Wireless\n",
       "74:c6:3b:29:d7:1d                            iHome         Wireless\n",
       "ec:1a:59:83:28:11         Belkin wemo motion sensor        Wireless\n",
       "18:b4:30:25:be:e4          NEST Protect smoke alarm        Wireless\n",
       "70:ee:50:03:b8:ac           Netatmo weather station        Wireless\n",
       "00:24:e4:1b:6f:96              Withings Smart scale        Wireless\n",
       "74:6a:89:00:2e:25     Blipcare Blood Pressure meter        Wireless\n",
       "00:24:e4:20:28:c6  Withings Aura smart sleep sensor        Wireless\n",
       "d0:73:d5:01:83:08       Light Bulbs LiFX Smart Bulb        Wireless\n",
       "18:b7:9e:02:20:44                     Triby Speaker        Wireless\n",
       "e0:76:d0:33:bb:85              PIX-STAR Photo-frame        Wireless\n",
       "70:5a:0f:e4:9b:c0                        HP Printer        Wireless\n",
       "08:21:ef:3b:fc:e3                Samsung Galaxy Tab        Wireless\n",
       "30:8c:fb:b6:ea:45                      Nest Dropcam        Wireless\n",
       "40:f3:08:ff:1e:da                     Android Phone        Wireless\n",
       "74:2f:68:81:69:42                            Laptop        Wireless\n",
       "ac:bc:32:d4:6f:2f                           MacBook        Wireless\n",
       "b4:ce:f6:a7:a3:c2                     Android Phone        Wireless\n",
       "d0:a6:37:df:a1:e1                            IPhone        Wireless\n",
       "f4:5c:89:93:cc:85                    MacBook/Iphone        Wireless\n",
       "14:cc:20:51:33:ea          TPLink Router Bridge LAN         Gateway"
      ]
     },
     "execution_count": 33,
     "metadata": {},
     "output_type": "execute_result"
    }
   ],
   "source": [
    "devices_list"
   ]
  },
  {
   "cell_type": "code",
   "execution_count": 35,
   "metadata": {},
   "outputs": [
    {
     "data": {
      "text/plain": [
       "Index(['d0:52:a8:00:67:5e', '44:65:0d:56:cc:d3', '70:ee:50:18:34:43',\n",
       "       'f4:f2:6d:93:51:f1', '00:16:6c:ab:6b:88', '30:8c:fb:2f:e4:b2',\n",
       "       '00:62:6e:51:27:2e', 'e8:ab:fa:19:de:4f', '00:24:e4:11:18:a8',\n",
       "       'ec:1a:59:79:f4:89', '50:c7:bf:00:56:39', '74:c6:3b:29:d7:1d',\n",
       "       'ec:1a:59:83:28:11', '18:b4:30:25:be:e4', '70:ee:50:03:b8:ac',\n",
       "       '00:24:e4:1b:6f:96', '74:6a:89:00:2e:25', '00:24:e4:20:28:c6',\n",
       "       'd0:73:d5:01:83:08', '18:b7:9e:02:20:44', 'e0:76:d0:33:bb:85',\n",
       "       '70:5a:0f:e4:9b:c0', '08:21:ef:3b:fc:e3', '30:8c:fb:b6:ea:45',\n",
       "       '40:f3:08:ff:1e:da', '74:2f:68:81:69:42', 'ac:bc:32:d4:6f:2f',\n",
       "       'b4:ce:f6:a7:a3:c2', 'd0:a6:37:df:a1:e1', 'f4:5c:89:93:cc:85',\n",
       "       '14:cc:20:51:33:ea'],\n",
       "      dtype='object', name='MAC ADDRESS')"
      ]
     },
     "execution_count": 35,
     "metadata": {},
     "output_type": "execute_result"
    }
   ],
   "source": [
    "devices_list.index"
   ]
  },
  {
   "cell_type": "code",
   "execution_count": 43,
   "metadata": {},
   "outputs": [
    {
     "data": {
      "text/plain": [
       "'IPhone'"
      ]
     },
     "execution_count": 43,
     "metadata": {},
     "output_type": "execute_result"
    }
   ],
   "source": [
    "devices_list.loc['d0:a6:37:df:a1:e1'][0]"
   ]
  },
  {
   "cell_type": "code",
   "execution_count": 44,
   "metadata": {},
   "outputs": [],
   "source": [
    "pcap_reader = PcapReader(file_path)"
   ]
  },
  {
   "cell_type": "code",
   "execution_count": 48,
   "metadata": {},
   "outputs": [],
   "source": [
    "pcap_reader.close()"
   ]
  },
  {
   "cell_type": "code",
   "execution_count": 45,
   "metadata": {},
   "outputs": [],
   "source": [
    "packet1 = pcap_reader.read_packet()"
   ]
  },
  {
   "cell_type": "code",
   "execution_count": 46,
   "metadata": {},
   "outputs": [],
   "source": [
    "src = packet1.fields['src']"
   ]
  },
  {
   "cell_type": "code",
   "execution_count": 47,
   "metadata": {},
   "outputs": [
    {
     "data": {
      "text/plain": [
       "'TPLink Router Bridge LAN'"
      ]
     },
     "execution_count": 47,
     "metadata": {},
     "output_type": "execute_result"
    }
   ],
   "source": [
    "devices_list.loc[src][0]"
   ]
  },
  {
   "cell_type": "code",
   "execution_count": 49,
   "metadata": {},
   "outputs": [
    {
     "ename": "EOFError",
     "evalue": "",
     "output_type": "error",
     "traceback": [
      "\u001b[1;31m---------------------------------------------------------------------------\u001b[0m",
      "\u001b[1;31merror\u001b[0m                                     Traceback (most recent call last)",
      "\u001b[1;32md:\\python37\\lib\\site-packages\\scapy\\utils.py\u001b[0m in \u001b[0;36mread_packet\u001b[1;34m(self, size)\u001b[0m\n\u001b[0;32m   1115\u001b[0m                 blocktype, blocklen = struct.unpack(self.endian + \"2I\",\n\u001b[1;32m-> 1116\u001b[1;33m                                                     self.f.read(8))\n\u001b[0m\u001b[0;32m   1117\u001b[0m             \u001b[1;32mexcept\u001b[0m \u001b[0mstruct\u001b[0m\u001b[1;33m.\u001b[0m\u001b[0merror\u001b[0m\u001b[1;33m:\u001b[0m\u001b[1;33m\u001b[0m\u001b[1;33m\u001b[0m\u001b[0m\n",
      "\u001b[1;31merror\u001b[0m: unpack requires a buffer of 8 bytes",
      "\nDuring handling of the above exception, another exception occurred:\n",
      "\u001b[1;31mEOFError\u001b[0m                                  Traceback (most recent call last)",
      "\u001b[1;32m<ipython-input-49-f4d22fd6820b>\u001b[0m in \u001b[0;36m<module>\u001b[1;34m\u001b[0m\n\u001b[0;32m      2\u001b[0m \u001b[0mpcap_reader\u001b[0m \u001b[1;33m=\u001b[0m \u001b[0mPcapReader\u001b[0m\u001b[1;33m(\u001b[0m\u001b[0mfile_path\u001b[0m\u001b[1;33m)\u001b[0m\u001b[1;33m\u001b[0m\u001b[1;33m\u001b[0m\u001b[0m\n\u001b[0;32m      3\u001b[0m \u001b[1;32mwhile\u001b[0m \u001b[1;32mTrue\u001b[0m\u001b[1;33m:\u001b[0m\u001b[1;33m\u001b[0m\u001b[1;33m\u001b[0m\u001b[0m\n\u001b[1;32m----> 4\u001b[1;33m     \u001b[0mpacket\u001b[0m \u001b[1;33m=\u001b[0m \u001b[0mpcap_reader\u001b[0m\u001b[1;33m.\u001b[0m\u001b[0mread_packet\u001b[0m\u001b[1;33m(\u001b[0m\u001b[1;33m)\u001b[0m\u001b[1;33m\u001b[0m\u001b[1;33m\u001b[0m\u001b[0m\n\u001b[0m\u001b[0;32m      5\u001b[0m     \u001b[1;32mif\u001b[0m \u001b[0mpacket\u001b[0m \u001b[1;32mis\u001b[0m \u001b[1;32mNone\u001b[0m \u001b[1;32mor\u001b[0m \u001b[0mpacket\u001b[0m \u001b[1;32mis\u001b[0m \u001b[1;34m''\u001b[0m\u001b[1;33m:\u001b[0m\u001b[1;33m\u001b[0m\u001b[1;33m\u001b[0m\u001b[0m\n\u001b[0;32m      6\u001b[0m         \u001b[1;32mbreak\u001b[0m\u001b[1;33m\u001b[0m\u001b[1;33m\u001b[0m\u001b[0m\n",
      "\u001b[1;32md:\\python37\\lib\\site-packages\\scapy\\utils.py\u001b[0m in \u001b[0;36mread_packet\u001b[1;34m(self, size)\u001b[0m\n\u001b[0;32m   1205\u001b[0m \u001b[1;33m\u001b[0m\u001b[0m\n\u001b[0;32m   1206\u001b[0m     \u001b[1;32mdef\u001b[0m \u001b[0mread_packet\u001b[0m\u001b[1;33m(\u001b[0m\u001b[0mself\u001b[0m\u001b[1;33m,\u001b[0m \u001b[0msize\u001b[0m\u001b[1;33m=\u001b[0m\u001b[0mMTU\u001b[0m\u001b[1;33m)\u001b[0m\u001b[1;33m:\u001b[0m\u001b[1;33m\u001b[0m\u001b[1;33m\u001b[0m\u001b[0m\n\u001b[1;32m-> 1207\u001b[1;33m         \u001b[0mrp\u001b[0m \u001b[1;33m=\u001b[0m \u001b[0msuper\u001b[0m\u001b[1;33m(\u001b[0m\u001b[0mPcapNgReader\u001b[0m\u001b[1;33m,\u001b[0m \u001b[0mself\u001b[0m\u001b[1;33m)\u001b[0m\u001b[1;33m.\u001b[0m\u001b[0mread_packet\u001b[0m\u001b[1;33m(\u001b[0m\u001b[0msize\u001b[0m\u001b[1;33m=\u001b[0m\u001b[0msize\u001b[0m\u001b[1;33m)\u001b[0m\u001b[1;33m\u001b[0m\u001b[1;33m\u001b[0m\u001b[0m\n\u001b[0m\u001b[0;32m   1208\u001b[0m         \u001b[1;32mif\u001b[0m \u001b[0mrp\u001b[0m \u001b[1;32mis\u001b[0m \u001b[1;32mNone\u001b[0m\u001b[1;33m:\u001b[0m\u001b[1;33m\u001b[0m\u001b[1;33m\u001b[0m\u001b[0m\n\u001b[0;32m   1209\u001b[0m             \u001b[1;32mraise\u001b[0m \u001b[0mEOFError\u001b[0m\u001b[1;33m\u001b[0m\u001b[1;33m\u001b[0m\u001b[0m\n",
      "\u001b[1;32md:\\python37\\lib\\site-packages\\scapy\\utils.py\u001b[0m in \u001b[0;36mread_packet\u001b[1;34m(self, size)\u001b[0m\n\u001b[0;32m   1116\u001b[0m                                                     self.f.read(8))\n\u001b[0;32m   1117\u001b[0m             \u001b[1;32mexcept\u001b[0m \u001b[0mstruct\u001b[0m\u001b[1;33m.\u001b[0m\u001b[0merror\u001b[0m\u001b[1;33m:\u001b[0m\u001b[1;33m\u001b[0m\u001b[1;33m\u001b[0m\u001b[0m\n\u001b[1;32m-> 1118\u001b[1;33m                 \u001b[1;32mraise\u001b[0m \u001b[0mEOFError\u001b[0m\u001b[1;33m\u001b[0m\u001b[1;33m\u001b[0m\u001b[0m\n\u001b[0m\u001b[0;32m   1119\u001b[0m             \u001b[0mblock\u001b[0m \u001b[1;33m=\u001b[0m \u001b[0mself\u001b[0m\u001b[1;33m.\u001b[0m\u001b[0mf\u001b[0m\u001b[1;33m.\u001b[0m\u001b[0mread\u001b[0m\u001b[1;33m(\u001b[0m\u001b[0mblocklen\u001b[0m \u001b[1;33m-\u001b[0m \u001b[1;36m12\u001b[0m\u001b[1;33m)\u001b[0m\u001b[1;33m\u001b[0m\u001b[1;33m\u001b[0m\u001b[0m\n\u001b[0;32m   1120\u001b[0m             \u001b[1;32mif\u001b[0m \u001b[0mblocklen\u001b[0m \u001b[1;33m%\u001b[0m \u001b[1;36m4\u001b[0m\u001b[1;33m:\u001b[0m\u001b[1;33m\u001b[0m\u001b[1;33m\u001b[0m\u001b[0m\n",
      "\u001b[1;31mEOFError\u001b[0m: "
     ]
    }
   ],
   "source": [
    "sep_devices = {}\n",
    "pcap_reader = PcapReader(file_path)\n",
    "while True:\n",
    "    packet = pcap_reader.read_packet()\n",
    "    if packet is None or packet is '':\n",
    "        break\n",
    "    src = packet.fields['src']\n",
    "    if src not in sep_devices.keys():\n",
    "        sep_devices[src] = []\n",
    "    sep_devices[src].append(packet)"
   ]
  },
  {
   "cell_type": "code",
   "execution_count": 51,
   "metadata": {},
   "outputs": [
    {
     "data": {
      "text/plain": [
       "28"
      ]
     },
     "execution_count": 51,
     "metadata": {},
     "output_type": "execute_result"
    }
   ],
   "source": [
    "len(sep_devices)"
   ]
  },
  {
   "cell_type": "code",
   "execution_count": null,
   "metadata": {},
   "outputs": [],
   "source": []
  }
 ],
 "metadata": {
  "kernelspec": {
   "display_name": "Python 3",
   "language": "python",
   "name": "python3"
  },
  "language_info": {
   "codemirror_mode": {
    "name": "ipython",
    "version": 3
   },
   "file_extension": ".py",
   "mimetype": "text/x-python",
   "name": "python",
   "nbconvert_exporter": "python",
   "pygments_lexer": "ipython3",
   "version": "3.7.5"
  }
 },
 "nbformat": 4,
 "nbformat_minor": 4
}
